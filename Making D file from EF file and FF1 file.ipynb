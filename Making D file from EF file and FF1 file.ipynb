{
 "cells": [
  {
   "cell_type": "code",
   "execution_count": 1,
   "metadata": {
    "collapsed": true
   },
   "outputs": [],
   "source": [
    "# 前提１：　EFファイル　＝　DPC包括　+　出来高（DPC期間超　+　DPC適用区分==0）\n",
    "# 前提２：　Dファイル　＝　出来高（DPC期間超　+　DPC適用区分==0） + DPC入院料\n",
    "\n",
    "# Making D file from EF file and FF1 file\n",
    "\n",
    "# Step 1. Aggregate table dpc_ef using table tensumaster\n",
    "# Step 2. Make \"DPC score table\" from table dpc_ff1 and table dpc master\n",
    "# Step 3. Concat Step 1's table and Step 2's table and sort by patient's id and \"実施年月日\""
   ]
  },
  {
   "cell_type": "code",
   "execution_count": 1,
   "metadata": {},
   "outputs": [],
   "source": [
    "import pandas as pd\n",
    "import psycopg2 as pg\n",
    "import pandas.io.sql as psql\n",
    "import datetime\n",
    "#import numba\n",
    "#import dask.dataframe as dd"
   ]
  },
  {
   "cell_type": "code",
   "execution_count": 2,
   "metadata": {
    "collapsed": true
   },
   "outputs": [],
   "source": [
    "# Variables\n",
    "start = \"2017-01-01\"\n",
    "end = \"2017-01-31\"\n",
    "\n",
    "month = \"1701\"\n",
    "\n",
    "nengo = \"h28\"\n",
    "\n",
    "#医療機関係数\n",
    "cof = 1.2800\n",
    "\n",
    "#処理日\n",
    "imp_date = \"20170324\""
   ]
  },
  {
   "cell_type": "code",
   "execution_count": 3,
   "metadata": {},
   "outputs": [],
   "source": [
    "# Step 0. Read dummy D file and get D file's column as list\n",
    "\n",
    "D = pd.read_excel(\"dummyD.xlsx\")"
   ]
  },
  {
   "cell_type": "code",
   "execution_count": 4,
   "metadata": {},
   "outputs": [],
   "source": [
    "dcol = D.columns.tolist()"
   ]
  },
  {
   "cell_type": "code",
   "execution_count": 5,
   "metadata": {
    "collapsed": true
   },
   "outputs": [],
   "source": [
    "# Step 1. Aggregate table dpc_ef using table tensumaster"
   ]
  },
  {
   "cell_type": "code",
   "execution_count": 6,
   "metadata": {},
   "outputs": [],
   "source": [
    "# Get dpc_ef as EF\n",
    "with pg.connect(database='uonuma_kikan',user='postgres',host='localhost',port=5432,password=12345) as conn:\n",
    "    sql = \"\"\"SELECT * FROM dpc_ef \n",
    "              --WHERE データ区分 <> 90\n",
    "              --AND データ区分 <> 92\n",
    "              --AND データ区分 <> 97\n",
    "              --AND データ区分 NOT BETWEEN 20 AND 39\n",
    "                WHERE 実施年月日 BETWEEN '{0}' AND '{1}';\"\"\".format(start,end)\n",
    "    EF = psql.read_sql(sql,conn)"
   ]
  },
  {
   "cell_type": "code",
   "execution_count": 8,
   "metadata": {},
   "outputs": [],
   "source": [
    "# Get tensumaster as TEN\n",
    "with pg.connect(database='uonuma_kikan',user='postgres',host='localhost',port=5432,password=12345) as conn:\n",
    "    sql = \"SELECT * FROM tensumaster_{0};\".format(nengo)\n",
    "    TEN = psql.read_sql(sql,conn)"
   ]
  },
  {
   "cell_type": "code",
   "execution_count": 10,
   "metadata": {},
   "outputs": [],
   "source": [
    "TEN = TEN[[\"診療行為コード\",\"dpc適用区分\"]]"
   ]
  },
  {
   "cell_type": "code",
   "execution_count": 11,
   "metadata": {
    "collapsed": true
   },
   "outputs": [],
   "source": [
    "EFTEN = pd.merge(EF,TEN,left_on=\"レセプト電算コード\",right_on=\"診療行為コード\",how=\"left\")"
   ]
  },
  {
   "cell_type": "code",
   "execution_count": 12,
   "metadata": {},
   "outputs": [],
   "source": [
    "EFTEN[\"行為明細区分情報\"] = EFTEN[\"行為明細区分情報\"].fillna(\"\")"
   ]
  },
  {
   "cell_type": "code",
   "execution_count": 13,
   "metadata": {},
   "outputs": [
    {
     "data": {
      "text/plain": [
       "(335108, 34)"
      ]
     },
     "execution_count": 13,
     "metadata": {},
     "output_type": "execute_result"
    }
   ],
   "source": [
    "EFTEN.shape"
   ]
  },
  {
   "cell_type": "code",
   "execution_count": 14,
   "metadata": {
    "collapsed": true
   },
   "outputs": [],
   "source": [
    "# ｄｐｃ入院料レコード作成のためのフルEFTENをここで保存しておく\n",
    "full = EFTEN"
   ]
  },
  {
   "cell_type": "code",
   "execution_count": 1,
   "metadata": {},
   "outputs": [],
   "source": [
    "#EFTEN[EFTEN[\"行為明細区分情報\"]=='100000000000']"
   ]
  },
  {
   "cell_type": "code",
   "execution_count": 16,
   "metadata": {},
   "outputs": [
    {
     "data": {
      "text/plain": [
       "{'',\n",
       " '000000000000',\n",
       " '000010000000',\n",
       " '002100000000',\n",
       " '002200000000',\n",
       " '010000000000',\n",
       " '010010000000',\n",
       " '100000000000'}"
      ]
     },
     "execution_count": 16,
     "metadata": {},
     "output_type": "execute_result"
    }
   ],
   "source": [
    "set(EFTEN[\"行為明細区分情報\"])"
   ]
  },
  {
   "cell_type": "code",
   "execution_count": 20,
   "metadata": {},
   "outputs": [],
   "source": [
    "# 3月２２日追加\n",
    "\n",
    "# dpc適用区分の見直し\n",
    "    # 包括対象：　0（包括評価対象）\n",
    "    # 包括=出来高中間（a）：　1（出来高部分で算定可能な診療行為）　\n",
    "    # 出来高:9（包括評価対象外）\n",
    "    # dpc適用区分が空欄（ｂ）\n",
    "    \n",
    "# 空欄(b)より退院時処方をピックアップ\n",
    "    # 退院時処方分：kuran_taiin\n",
    "    # 退院時処方以外：kuran_remove(b')\n",
    "    \n",
    "# 包括=出来高中間(a),kuran_remove(b')のデータ区分の見直し\n",
    "    #　出来高診療区分：10~19, 50~59, (80~89) \n",
    "\n",
    "    \n",
    "###### 退院時処方の行為明細区分情報が正しいか（Fファイル時代に行為明細区分情報の１桁目が\"1\"になっていたものが、EFファイルになると消えていないか）"
   ]
  },
  {
   "cell_type": "code",
   "execution_count": 21,
   "metadata": {
    "collapsed": true
   },
   "outputs": [],
   "source": [
    "# dpc適用区分の見直し"
   ]
  },
  {
   "cell_type": "code",
   "execution_count": 22,
   "metadata": {},
   "outputs": [],
   "source": [
    "# 包括対象：　0（包括評価対象）\n",
    "# ここには退院時処方は入っていない\n",
    "hokat = EFTEN[EFTEN[\"dpc適用区分\"]==0]"
   ]
  },
  {
   "cell_type": "code",
   "execution_count": 48,
   "metadata": {},
   "outputs": [],
   "source": [
    "#hokat.to_excel(\"test_hokat_{}.xlsx\".format(imp_date))"
   ]
  },
  {
   "cell_type": "code",
   "execution_count": 23,
   "metadata": {
    "collapsed": true
   },
   "outputs": [],
   "source": [
    "# 包括=出来高中間(a)：　1（出来高部分で算定可能な診療行為）\n",
    "# ここには退院時処方は入っていない\n",
    "medium = EFTEN[EFTEN[\"dpc適用区分\"]==1]"
   ]
  },
  {
   "cell_type": "code",
   "execution_count": 51,
   "metadata": {},
   "outputs": [],
   "source": [
    "#medium.to_excel(\"test_medium_{}.xlsx\".format(imp_date))"
   ]
  },
  {
   "cell_type": "code",
   "execution_count": 24,
   "metadata": {},
   "outputs": [],
   "source": [
    "# 出来高:9（包括評価対象外）\n",
    "deki9 = EFTEN[EFTEN[\"dpc適用区分\"]==9]"
   ]
  },
  {
   "cell_type": "code",
   "execution_count": 25,
   "metadata": {},
   "outputs": [
    {
     "data": {
      "text/html": [
       "<div>\n",
       "<table border=\"1\" class=\"dataframe\">\n",
       "  <thead>\n",
       "    <tr style=\"text-align: right;\">\n",
       "      <th></th>\n",
       "      <th>施設コード</th>\n",
       "      <th>データ識別番号</th>\n",
       "      <th>退院年月日</th>\n",
       "      <th>入院年月日</th>\n",
       "      <th>データ区分</th>\n",
       "      <th>順序番号</th>\n",
       "      <th>行為明細番号</th>\n",
       "      <th>病院点数マスタコード</th>\n",
       "      <th>レセプト電算コード</th>\n",
       "      <th>解釈番号</th>\n",
       "      <th>...</th>\n",
       "      <th>レセプト科区分</th>\n",
       "      <th>診療科区分</th>\n",
       "      <th>医師コード</th>\n",
       "      <th>病棟コード</th>\n",
       "      <th>病棟区分</th>\n",
       "      <th>入外区分</th>\n",
       "      <th>施設タイプ</th>\n",
       "      <th>id</th>\n",
       "      <th>診療行為コード</th>\n",
       "      <th>dpc適用区分</th>\n",
       "    </tr>\n",
       "  </thead>\n",
       "  <tbody>\n",
       "  </tbody>\n",
       "</table>\n",
       "<p>0 rows × 34 columns</p>\n",
       "</div>"
      ],
      "text/plain": [
       "Empty DataFrame\n",
       "Columns: [施設コード, データ識別番号, 退院年月日, 入院年月日, データ区分, 順序番号, 行為明細番号, 病院点数マスタコード, レセプト電算コード, 解釈番号, 診療明細名称, 使用量, 基準単位, 明細点数・金額, 円点区分, 出来高実績点数, 行為明細区分情報, 行為点数, 行為薬剤料, 行為材料料, 行為回数, 保険者番号, レセプト種別コード, 実施年月日, レセプト科区分, 診療科区分, 医師コード, 病棟コード, 病棟区分, 入外区分, 施設タイプ, id, 診療行為コード, dpc適用区分]\n",
       "Index: []\n",
       "\n",
       "[0 rows x 34 columns]"
      ]
     },
     "execution_count": 25,
     "metadata": {},
     "output_type": "execute_result"
    }
   ],
   "source": [
    "deki9"
   ]
  },
  {
   "cell_type": "code",
   "execution_count": 26,
   "metadata": {},
   "outputs": [],
   "source": [
    "# dpc適用区分が空欄(b)\n",
    "# ここに退院時処方入ってる\n",
    "kuran = EFTEN[EFTEN[\"dpc適用区分\"].isnull()]"
   ]
  },
  {
   "cell_type": "code",
   "execution_count": 63,
   "metadata": {
    "collapsed": true
   },
   "outputs": [],
   "source": [
    "#kuran.to_excel(\"test_kuran_{}.xlsx\".format(imp_date))"
   ]
  },
  {
   "cell_type": "code",
   "execution_count": null,
   "metadata": {
    "collapsed": true
   },
   "outputs": [],
   "source": [
    "# 空欄(b)より退院時処方をピックアップ\n",
    "　　　　# 退院時処方分：kuran_taiin\n",
    "    # 退院時処方以外：kuran_remove(b')"
   ]
  },
  {
   "cell_type": "code",
   "execution_count": 27,
   "metadata": {},
   "outputs": [],
   "source": [
    "# 退院時処方のみ抽出（→出来高としてDファイルに格納）\n",
    "kuran_taiin = kuran[kuran[\"行為明細区分情報\"].apply(lambda x:x[0] if x != \"\" else x)==\"1\"]"
   ]
  },
  {
   "cell_type": "code",
   "execution_count": 28,
   "metadata": {},
   "outputs": [],
   "source": [
    "# 退院時処方をのぞいたもの(→包括)\n",
    "kuran_remove = kuran[kuran[\"行為明細区分情報\"].apply(lambda x:x[0] if x != \"\" else x)!=\"1\"]"
   ]
  },
  {
   "cell_type": "code",
   "execution_count": null,
   "metadata": {
    "collapsed": true
   },
   "outputs": [],
   "source": [
    "# 包括=出来高中間(a),kuran_remove(b')のデータ区分の見直し\n",
    "    #　出来高診療区分：10~19, 50~59, (80~89) "
   ]
  },
  {
   "cell_type": "code",
   "execution_count": 29,
   "metadata": {},
   "outputs": [
    {
     "data": {
      "text/plain": [
       "{11.0, 13.0, 14.0, 33.0, 40.0, 50.0, 54.0, 60.0, 70.0, 80.0, 90.0, 92.0, 97.0}"
      ]
     },
     "execution_count": 29,
     "metadata": {},
     "output_type": "execute_result"
    }
   ],
   "source": [
    "set(medium[\"データ区分\"])"
   ]
  },
  {
   "cell_type": "code",
   "execution_count": 30,
   "metadata": {},
   "outputs": [
    {
     "data": {
      "text/plain": [
       "[10, 11, 12, 13, 14, 15, 16, 17, 18, 19]"
      ]
     },
     "execution_count": 30,
     "metadata": {},
     "output_type": "execute_result"
    }
   ],
   "source": [
    "[x for x in range(10,20)]"
   ]
  },
  {
   "cell_type": "code",
   "execution_count": 31,
   "metadata": {
    "collapsed": true
   },
   "outputs": [],
   "source": [
    "# 中間帯の内、データ区分から判断して出来高になるもの\n",
    "medium_deki = medium[(medium[\"データ区分\"].isin(range(10,20)))|(medium[\"データ区分\"].isin(range(50,60)))|(medium[\"データ区分\"].isin(range(80,90)))]"
   ]
  },
  {
   "cell_type": "code",
   "execution_count": 32,
   "metadata": {},
   "outputs": [],
   "source": [
    "# 中間帯の内、データ区分から判断して包括になるもの\n",
    "medium_hokat = medium[~((medium[\"データ区分\"].isin(range(10,20)))|(medium[\"データ区分\"].isin(range(50,60)))|(medium[\"データ区分\"].isin(range(80,90))))]"
   ]
  },
  {
   "cell_type": "code",
   "execution_count": 33,
   "metadata": {},
   "outputs": [],
   "source": [
    "# 空欄（退院時処方除く）の内、データ区分から判断して出来高になるもの\n",
    "kr_deki = kuran_remove[(kuran_remove[\"データ区分\"].isin(range(10,20)))|(kuran_remove[\"データ区分\"].isin(range(50,60)))|(kuran_remove[\"データ区分\"].isin(range(80,90)))]"
   ]
  },
  {
   "cell_type": "code",
   "execution_count": 34,
   "metadata": {
    "collapsed": true
   },
   "outputs": [],
   "source": [
    "# 空欄（退院時処方除く）の内、データ区分から判断して包括になるもの\n",
    "kr_hokat = kuran_remove[~((kuran_remove[\"データ区分\"].isin(range(10,20)))|(kuran_remove[\"データ区分\"].isin(range(50,60)))|(kuran_remove[\"データ区分\"].isin(range(80,90))))]"
   ]
  },
  {
   "cell_type": "code",
   "execution_count": 35,
   "metadata": {},
   "outputs": [],
   "source": [
    "# 出来高ファイル（medium_deki, deki9, kuran_taiin, kr_deki）のconcat\n",
    "\n",
    "eften = pd.concat([medium_deki,deki9])\n",
    "eften = pd.concat([eften,kuran_taiin])\n",
    "eften = pd.concat([eften,kr_deki])"
   ]
  },
  {
   "cell_type": "code",
   "execution_count": 36,
   "metadata": {},
   "outputs": [],
   "source": [
    "eften.reset_index(inplace=True)"
   ]
  },
  {
   "cell_type": "code",
   "execution_count": 37,
   "metadata": {},
   "outputs": [],
   "source": [
    "eften.drop(\"index\",1,inplace=True)"
   ]
  },
  {
   "cell_type": "code",
   "execution_count": 38,
   "metadata": {
    "collapsed": true
   },
   "outputs": [],
   "source": [
    "# 包括ファイル(hokat, medium_hokat, kr_hokat)のconcat\n",
    "\n",
    "EFTEN = pd.concat([hokat,medium_hokat])\n",
    "EFTEN = pd.concat([EFTEN,kr_hokat])"
   ]
  },
  {
   "cell_type": "code",
   "execution_count": 39,
   "metadata": {},
   "outputs": [],
   "source": [
    "EFTEN.reset_index(inplace=True)"
   ]
  },
  {
   "cell_type": "code",
   "execution_count": 40,
   "metadata": {},
   "outputs": [],
   "source": [
    "EFTEN.drop(\"index\",1,inplace=True)"
   ]
  },
  {
   "cell_type": "code",
   "execution_count": 41,
   "metadata": {},
   "outputs": [
    {
     "name": "stdout",
     "output_type": "stream",
     "text": [
      "(335108, 34) (22711, 34) (312397, 34)\n"
     ]
    }
   ],
   "source": [
    "print(full.shape,eften.shape,EFTEN.shape)"
   ]
  },
  {
   "cell_type": "code",
   "execution_count": 15,
   "metadata": {},
   "outputs": [],
   "source": [
    "'''\n",
    "# 退院時処方のみ抽出（→出来高としてDファイルに格納）\n",
    "taiin = EFTEN[EFTEN[\"行為明細区分情報\"].apply(lambda x:x[0] if x != \"\" else x)==\"1\"]\n",
    "'''"
   ]
  },
  {
   "cell_type": "code",
   "execution_count": 16,
   "metadata": {},
   "outputs": [],
   "source": [
    "'''\n",
    "# 退院時処方をのぞいたもの\n",
    "exEFTEN = EFTEN[EFTEN[\"行為明細区分情報\"].apply(lambda x:x[0] if x != \"\" else x)!=\"1\"]\n",
    "'''"
   ]
  },
  {
   "cell_type": "code",
   "execution_count": 17,
   "metadata": {},
   "outputs": [],
   "source": [
    "'''\n",
    "# exEFTENからdpc適用外のみ抽出（→出来高としてDファイルに格納）\n",
    "eften = exEFTEN[exEFTEN[\"dpc適用区分\"]==0]\n",
    "'''"
   ]
  },
  {
   "cell_type": "code",
   "execution_count": 18,
   "metadata": {},
   "outputs": [],
   "source": [
    "'''\n",
    "# exEFTENからdpc適用のみ抽出（→後でその内のdpc期間外を抽出しDファイルに格納）\n",
    "EFTEN = exEFTEN[exEFTEN[\"dpc適用区分\"]==1]\n",
    "'''"
   ]
  },
  {
   "cell_type": "code",
   "execution_count": 42,
   "metadata": {
    "collapsed": true
   },
   "outputs": [],
   "source": [
    "# Choose the column which D file has\n",
    "#taiin = pd.DataFrame(taiin,columns=dcol)\n",
    "full = pd.DataFrame(full,columns=dcol)\n",
    "eften = pd.DataFrame(eften,columns=dcol)\n",
    "EFTEN = pd.DataFrame(EFTEN,columns=dcol)"
   ]
  },
  {
   "cell_type": "code",
   "execution_count": 37,
   "metadata": {},
   "outputs": [],
   "source": [
    "#taiin"
   ]
  },
  {
   "cell_type": "code",
   "execution_count": 40,
   "metadata": {},
   "outputs": [],
   "source": [
    "#taiin[~(taiin[\"分類番号\"].isnull())]"
   ]
  },
  {
   "cell_type": "code",
   "execution_count": 46,
   "metadata": {},
   "outputs": [
    {
     "data": {
      "text/html": [
       "<div>\n",
       "<table border=\"1\" class=\"dataframe\">\n",
       "  <thead>\n",
       "    <tr style=\"text-align: right;\">\n",
       "      <th></th>\n",
       "      <th>施設コード</th>\n",
       "      <th>データ識別番号</th>\n",
       "      <th>退院年月日</th>\n",
       "      <th>入院年月日</th>\n",
       "      <th>データ区分</th>\n",
       "      <th>順序番号</th>\n",
       "      <th>病院点数マスタコード</th>\n",
       "      <th>レセプト電算コード</th>\n",
       "      <th>解釈番号</th>\n",
       "      <th>診療明細名称</th>\n",
       "      <th>...</th>\n",
       "      <th>医師コード</th>\n",
       "      <th>病棟コード</th>\n",
       "      <th>病棟区分</th>\n",
       "      <th>入外区分</th>\n",
       "      <th>施設タイプ</th>\n",
       "      <th>算定開始日</th>\n",
       "      <th>算定終了日</th>\n",
       "      <th>算定起算日</th>\n",
       "      <th>分類番号</th>\n",
       "      <th>医療機関係数</th>\n",
       "    </tr>\n",
       "  </thead>\n",
       "  <tbody>\n",
       "  </tbody>\n",
       "</table>\n",
       "<p>0 rows × 30 columns</p>\n",
       "</div>"
      ],
      "text/plain": [
       "Empty DataFrame\n",
       "Columns: [施設コード, データ識別番号, 退院年月日, 入院年月日, データ区分, 順序番号, 病院点数マスタコード, レセプト電算コード, 解釈番号, 診療明細名称, 行為点数, 行為薬剤料, 行為材料料, 円点区分, 行為回数, 保険者番号, レセプト種別コード, 実施年月日, レセプト科区分, 診療科区分, 医師コード, 病棟コード, 病棟区分, 入外区分, 施設タイプ, 算定開始日, 算定終了日, 算定起算日, 分類番号, 医療機関係数]\n",
       "Index: []\n",
       "\n",
       "[0 rows x 30 columns]"
      ]
     },
     "execution_count": 46,
     "metadata": {},
     "output_type": "execute_result"
    }
   ],
   "source": [
    "full[~(full[\"分類番号\"].isnull())]"
   ]
  },
  {
   "cell_type": "code",
   "execution_count": 47,
   "metadata": {},
   "outputs": [
    {
     "data": {
      "text/html": [
       "<div>\n",
       "<table border=\"1\" class=\"dataframe\">\n",
       "  <thead>\n",
       "    <tr style=\"text-align: right;\">\n",
       "      <th></th>\n",
       "      <th>施設コード</th>\n",
       "      <th>データ識別番号</th>\n",
       "      <th>退院年月日</th>\n",
       "      <th>入院年月日</th>\n",
       "      <th>データ区分</th>\n",
       "      <th>順序番号</th>\n",
       "      <th>病院点数マスタコード</th>\n",
       "      <th>レセプト電算コード</th>\n",
       "      <th>解釈番号</th>\n",
       "      <th>診療明細名称</th>\n",
       "      <th>...</th>\n",
       "      <th>医師コード</th>\n",
       "      <th>病棟コード</th>\n",
       "      <th>病棟区分</th>\n",
       "      <th>入外区分</th>\n",
       "      <th>施設タイプ</th>\n",
       "      <th>算定開始日</th>\n",
       "      <th>算定終了日</th>\n",
       "      <th>算定起算日</th>\n",
       "      <th>分類番号</th>\n",
       "      <th>医療機関係数</th>\n",
       "    </tr>\n",
       "  </thead>\n",
       "  <tbody>\n",
       "  </tbody>\n",
       "</table>\n",
       "<p>0 rows × 30 columns</p>\n",
       "</div>"
      ],
      "text/plain": [
       "Empty DataFrame\n",
       "Columns: [施設コード, データ識別番号, 退院年月日, 入院年月日, データ区分, 順序番号, 病院点数マスタコード, レセプト電算コード, 解釈番号, 診療明細名称, 行為点数, 行為薬剤料, 行為材料料, 円点区分, 行為回数, 保険者番号, レセプト種別コード, 実施年月日, レセプト科区分, 診療科区分, 医師コード, 病棟コード, 病棟区分, 入外区分, 施設タイプ, 算定開始日, 算定終了日, 算定起算日, 分類番号, 医療機関係数]\n",
       "Index: []\n",
       "\n",
       "[0 rows x 30 columns]"
      ]
     },
     "execution_count": 47,
     "metadata": {},
     "output_type": "execute_result"
    }
   ],
   "source": [
    "eften[~(eften[\"分類番号\"].isnull())]"
   ]
  },
  {
   "cell_type": "code",
   "execution_count": 48,
   "metadata": {},
   "outputs": [
    {
     "data": {
      "text/html": [
       "<div>\n",
       "<table border=\"1\" class=\"dataframe\">\n",
       "  <thead>\n",
       "    <tr style=\"text-align: right;\">\n",
       "      <th></th>\n",
       "      <th>施設コード</th>\n",
       "      <th>データ識別番号</th>\n",
       "      <th>退院年月日</th>\n",
       "      <th>入院年月日</th>\n",
       "      <th>データ区分</th>\n",
       "      <th>順序番号</th>\n",
       "      <th>病院点数マスタコード</th>\n",
       "      <th>レセプト電算コード</th>\n",
       "      <th>解釈番号</th>\n",
       "      <th>診療明細名称</th>\n",
       "      <th>...</th>\n",
       "      <th>医師コード</th>\n",
       "      <th>病棟コード</th>\n",
       "      <th>病棟区分</th>\n",
       "      <th>入外区分</th>\n",
       "      <th>施設タイプ</th>\n",
       "      <th>算定開始日</th>\n",
       "      <th>算定終了日</th>\n",
       "      <th>算定起算日</th>\n",
       "      <th>分類番号</th>\n",
       "      <th>医療機関係数</th>\n",
       "    </tr>\n",
       "  </thead>\n",
       "  <tbody>\n",
       "  </tbody>\n",
       "</table>\n",
       "<p>0 rows × 30 columns</p>\n",
       "</div>"
      ],
      "text/plain": [
       "Empty DataFrame\n",
       "Columns: [施設コード, データ識別番号, 退院年月日, 入院年月日, データ区分, 順序番号, 病院点数マスタコード, レセプト電算コード, 解釈番号, 診療明細名称, 行為点数, 行為薬剤料, 行為材料料, 円点区分, 行為回数, 保険者番号, レセプト種別コード, 実施年月日, レセプト科区分, 診療科区分, 医師コード, 病棟コード, 病棟区分, 入外区分, 施設タイプ, 算定開始日, 算定終了日, 算定起算日, 分類番号, 医療機関係数]\n",
       "Index: []\n",
       "\n",
       "[0 rows x 30 columns]"
      ]
     },
     "execution_count": 48,
     "metadata": {},
     "output_type": "execute_result"
    }
   ],
   "source": [
    "EFTEN[~(EFTEN[\"分類番号\"].isnull())]"
   ]
  },
  {
   "cell_type": "code",
   "execution_count": 29,
   "metadata": {
    "collapsed": true
   },
   "outputs": [],
   "source": [
    "#taiin.to_excel(\"test_taiin_{0}.xlsx\".format(imp_date))"
   ]
  },
  {
   "cell_type": "code",
   "execution_count": null,
   "metadata": {
    "collapsed": true
   },
   "outputs": [],
   "source": [
    "full.to_excel(\"test_full_{0}.xlsx\".format(imp_date))"
   ]
  },
  {
   "cell_type": "code",
   "execution_count": 30,
   "metadata": {
    "collapsed": true
   },
   "outputs": [],
   "source": [
    "eften.to_excel(\"test_eften_dpc0_{0}.xlsx\".format(imp_date))"
   ]
  },
  {
   "cell_type": "code",
   "execution_count": 31,
   "metadata": {
    "collapsed": true
   },
   "outputs": [],
   "source": [
    "EFTEN.to_excel(\"test_EFTEN_dpc1_{0}.xlsx\".format(imp_date))"
   ]
  },
  {
   "cell_type": "code",
   "execution_count": 19,
   "metadata": {
    "collapsed": true
   },
   "outputs": [],
   "source": [
    "# Step 2. Make \"DPC score table\" from table dpc_ff1 and table dpcmaster"
   ]
  },
  {
   "cell_type": "code",
   "execution_count": 49,
   "metadata": {
    "collapsed": true
   },
   "outputs": [],
   "source": [
    "df_ef = EF"
   ]
  },
  {
   "cell_type": "code",
   "execution_count": 50,
   "metadata": {},
   "outputs": [],
   "source": [
    "df_ef = df_ef[[\"データ識別番号\",\"入院年月日\",\"実施年月日\"]]"
   ]
  },
  {
   "cell_type": "code",
   "execution_count": 51,
   "metadata": {},
   "outputs": [
    {
     "name": "stderr",
     "output_type": "stream",
     "text": [
      "C:\\Program Files\\Anaconda3\\lib\\site-packages\\ipykernel\\__main__.py:1: SettingWithCopyWarning: \n",
      "A value is trying to be set on a copy of a slice from a DataFrame.\n",
      "Try using .loc[row_indexer,col_indexer] = value instead\n",
      "\n",
      "See the caveats in the documentation: http://pandas.pydata.org/pandas-docs/stable/indexing.html#indexing-view-versus-copy\n",
      "  if __name__ == '__main__':\n"
     ]
    }
   ],
   "source": [
    "df_ef[\"在院日数\"] = df_ef[\"実施年月日\"] - df_ef[\"入院年月日\"] + datetime.timedelta(days=1)"
   ]
  },
  {
   "cell_type": "code",
   "execution_count": 52,
   "metadata": {},
   "outputs": [
    {
     "data": {
      "text/plain": [
       "(335108, 4)"
      ]
     },
     "execution_count": 52,
     "metadata": {},
     "output_type": "execute_result"
    }
   ],
   "source": [
    "df_ef.shape"
   ]
  },
  {
   "cell_type": "code",
   "execution_count": 53,
   "metadata": {},
   "outputs": [
    {
     "name": "stderr",
     "output_type": "stream",
     "text": [
      "C:\\Program Files\\Anaconda3\\lib\\site-packages\\pandas\\util\\decorators.py:91: SettingWithCopyWarning: \n",
      "A value is trying to be set on a copy of a slice from a DataFrame\n",
      "\n",
      "See the caveats in the documentation: http://pandas.pydata.org/pandas-docs/stable/indexing.html#indexing-view-versus-copy\n",
      "  return func(*args, **kwargs)\n"
     ]
    }
   ],
   "source": [
    "df_ef.drop_duplicates([\"データ識別番号\",\"入院年月日\",\"実施年月日\"],inplace=True)"
   ]
  },
  {
   "cell_type": "code",
   "execution_count": 54,
   "metadata": {},
   "outputs": [
    {
     "data": {
      "text/plain": [
       "(8127, 4)"
      ]
     },
     "execution_count": 54,
     "metadata": {},
     "output_type": "execute_result"
    }
   ],
   "source": [
    "df_ef.shape"
   ]
  },
  {
   "cell_type": "code",
   "execution_count": 55,
   "metadata": {},
   "outputs": [
    {
     "name": "stderr",
     "output_type": "stream",
     "text": [
      "C:\\Program Files\\Anaconda3\\lib\\site-packages\\ipykernel\\__main__.py:1: SettingWithCopyWarning: \n",
      "A value is trying to be set on a copy of a slice from a DataFrame.\n",
      "Try using .loc[row_indexer,col_indexer] = value instead\n",
      "\n",
      "See the caveats in the documentation: http://pandas.pydata.org/pandas-docs/stable/indexing.html#indexing-view-versus-copy\n",
      "  if __name__ == '__main__':\n"
     ]
    }
   ],
   "source": [
    "df_ef[\"key\"] = df_ef[\"データ識別番号\"].apply(lambda x:str(x)) +\"_\"+ df_ef[\"入院年月日\"].apply(lambda x:str(x))"
   ]
  },
  {
   "cell_type": "code",
   "execution_count": 56,
   "metadata": {
    "collapsed": true
   },
   "outputs": [],
   "source": [
    "with pg.connect(database='uonuma_kikan',user='postgres',host='localhost',port=5432,password=12345) as conn:\n",
    "    sql = \"\"\"\n",
    "SELECT データ識別番号\n",
    "       ,入院年月日\n",
    "  FROM dpc_ff1_{0};\"\"\".format(month)\n",
    "    df_ff = psql.read_sql(sql,conn)"
   ]
  },
  {
   "cell_type": "code",
   "execution_count": 57,
   "metadata": {},
   "outputs": [],
   "source": [
    "df_ff[\"key\"] = df_ff[\"データ識別番号\"].apply(lambda x:str(x)) +\"_\"+ df_ff[\"入院年月日\"].apply(lambda x:str(x))"
   ]
  },
  {
   "cell_type": "code",
   "execution_count": 58,
   "metadata": {},
   "outputs": [],
   "source": [
    "df_ef = df_ef[df_ef[\"key\"].isin(df_ff[\"key\"])]"
   ]
  },
  {
   "cell_type": "code",
   "execution_count": 59,
   "metadata": {},
   "outputs": [
    {
     "data": {
      "text/plain": [
       "(4530, 5)"
      ]
     },
     "execution_count": 59,
     "metadata": {},
     "output_type": "execute_result"
    }
   ],
   "source": [
    "df_ef.shape"
   ]
  },
  {
   "cell_type": "code",
   "execution_count": 61,
   "metadata": {
    "collapsed": true
   },
   "outputs": [],
   "source": [
    "with pg.connect(database='uonuma_kikan',user='postgres',host='localhost',port=5432,password=12345) as conn:\n",
    "    sql = \"\"\"\n",
    "SELECT 患者番号\n",
    "       ,dpcコード\n",
    "       ,入院日（転入日）\n",
    "  FROM dpc_order\n",
    "  WHERE 入院日（転入日） BETWEEN '{0}' AND '{1}';\"\"\".format(start,end)\n",
    "    dpc_odr = psql.read_sql(sql,conn)"
   ]
  },
  {
   "cell_type": "code",
   "execution_count": 62,
   "metadata": {},
   "outputs": [],
   "source": [
    "dpc_odr[\"データ識別番号\"] = dpc_odr[\"患者番号\"]+10"
   ]
  },
  {
   "cell_type": "code",
   "execution_count": 64,
   "metadata": {},
   "outputs": [],
   "source": [
    "dpc_odr[\"key\"] = dpc_odr[\"データ識別番号\"].apply(lambda x:str(x)) +\"_\"+ dpc_odr[\"入院日（転入日）\"].apply(lambda x:str(x))"
   ]
  },
  {
   "cell_type": "code",
   "execution_count": 65,
   "metadata": {},
   "outputs": [],
   "source": [
    "d_odr = dpc_odr[[\"key\",\"dpcコード\"]]"
   ]
  },
  {
   "cell_type": "code",
   "execution_count": 66,
   "metadata": {},
   "outputs": [
    {
     "data": {
      "text/plain": [
       "(4530, 5)"
      ]
     },
     "execution_count": 66,
     "metadata": {},
     "output_type": "execute_result"
    }
   ],
   "source": [
    "df_ef.shape"
   ]
  },
  {
   "cell_type": "code",
   "execution_count": 67,
   "metadata": {},
   "outputs": [
    {
     "data": {
      "text/plain": [
       "(402, 2)"
      ]
     },
     "execution_count": 67,
     "metadata": {},
     "output_type": "execute_result"
    }
   ],
   "source": [
    "d_odr.shape"
   ]
  },
  {
   "cell_type": "code",
   "execution_count": 68,
   "metadata": {},
   "outputs": [
    {
     "name": "stderr",
     "output_type": "stream",
     "text": [
      "C:\\Program Files\\Anaconda3\\lib\\site-packages\\pandas\\util\\decorators.py:91: SettingWithCopyWarning: \n",
      "A value is trying to be set on a copy of a slice from a DataFrame\n",
      "\n",
      "See the caveats in the documentation: http://pandas.pydata.org/pandas-docs/stable/indexing.html#indexing-view-versus-copy\n",
      "  return func(*args, **kwargs)\n"
     ]
    }
   ],
   "source": [
    "d_odr.drop_duplicates(\"key\",inplace=True)"
   ]
  },
  {
   "cell_type": "code",
   "execution_count": 69,
   "metadata": {},
   "outputs": [
    {
     "data": {
      "text/plain": [
       "(402, 2)"
      ]
     },
     "execution_count": 69,
     "metadata": {},
     "output_type": "execute_result"
    }
   ],
   "source": [
    "d_odr.shape"
   ]
  },
  {
   "cell_type": "code",
   "execution_count": 70,
   "metadata": {},
   "outputs": [],
   "source": [
    "ef_odr = pd.merge(df_ef,d_odr,on=\"key\",how='left')"
   ]
  },
  {
   "cell_type": "code",
   "execution_count": 71,
   "metadata": {},
   "outputs": [
    {
     "data": {
      "text/plain": [
       "(4530, 6)"
      ]
     },
     "execution_count": 71,
     "metadata": {},
     "output_type": "execute_result"
    }
   ],
   "source": [
    "ef_odr.shape"
   ]
  },
  {
   "cell_type": "code",
   "execution_count": 72,
   "metadata": {
    "collapsed": true
   },
   "outputs": [],
   "source": [
    "with pg.connect(database='uonuma_kikan',user='postgres',host='localhost',port=5432,password=12345) as conn:\n",
    "    sql = \"\"\"\n",
    "SELECT 診断群分類番号\n",
    "       ,入院期間Ⅰ（日）\n",
    "       ,入院期間Ⅱ（日）\n",
    "       ,入院期間Ⅲ（日）\n",
    "       ,入院期間Ⅰ（点）\n",
    "       ,入院期間Ⅱ（点）\n",
    "       ,入院期間Ⅲ（点）\n",
    "  FROM dpcmaster_{0};\"\"\".format(nengo)\n",
    "    mstr = psql.read_sql(sql,conn)"
   ]
  },
  {
   "cell_type": "code",
   "execution_count": 74,
   "metadata": {},
   "outputs": [],
   "source": [
    "ef_odr.rename(columns={\"dpcコード\":\"診断群分類番号\"},inplace=True)"
   ]
  },
  {
   "cell_type": "code",
   "execution_count": 75,
   "metadata": {},
   "outputs": [
    {
     "data": {
      "text/html": [
       "<div>\n",
       "<table border=\"1\" class=\"dataframe\">\n",
       "  <thead>\n",
       "    <tr style=\"text-align: right;\">\n",
       "      <th></th>\n",
       "      <th>診断群分類番号</th>\n",
       "      <th>入院期間Ⅰ（日）</th>\n",
       "      <th>入院期間Ⅱ（日）</th>\n",
       "      <th>入院期間Ⅲ（日）</th>\n",
       "      <th>入院期間Ⅰ（点）</th>\n",
       "      <th>入院期間Ⅱ（点）</th>\n",
       "      <th>入院期間Ⅲ（点）</th>\n",
       "    </tr>\n",
       "  </thead>\n",
       "  <tbody>\n",
       "    <tr>\n",
       "      <th>0</th>\n",
       "      <td>010010xx99000x</td>\n",
       "      <td>3.0</td>\n",
       "      <td>9.0</td>\n",
       "      <td>30.0</td>\n",
       "      <td>3278.0</td>\n",
       "      <td>2022.0</td>\n",
       "      <td>1719.0</td>\n",
       "    </tr>\n",
       "    <tr>\n",
       "      <th>1</th>\n",
       "      <td>010010xx99001x</td>\n",
       "      <td>8.0</td>\n",
       "      <td>23.0</td>\n",
       "      <td>60.0</td>\n",
       "      <td>2667.0</td>\n",
       "      <td>2140.0</td>\n",
       "      <td>1819.0</td>\n",
       "    </tr>\n",
       "    <tr>\n",
       "      <th>2</th>\n",
       "      <td>010010xx9901xx</td>\n",
       "      <td>10.0</td>\n",
       "      <td>30.0</td>\n",
       "      <td>90.0</td>\n",
       "      <td>2804.0</td>\n",
       "      <td>2252.0</td>\n",
       "      <td>1914.0</td>\n",
       "    </tr>\n",
       "    <tr>\n",
       "      <th>3</th>\n",
       "      <td>010010xx9902xx</td>\n",
       "      <td>4.0</td>\n",
       "      <td>13.0</td>\n",
       "      <td>60.0</td>\n",
       "      <td>4855.0</td>\n",
       "      <td>2513.0</td>\n",
       "      <td>2053.0</td>\n",
       "    </tr>\n",
       "    <tr>\n",
       "      <th>4</th>\n",
       "      <td>010010xx99030x</td>\n",
       "      <td>7.0</td>\n",
       "      <td>17.0</td>\n",
       "      <td>60.0</td>\n",
       "      <td>2444.0</td>\n",
       "      <td>1903.0</td>\n",
       "      <td>1618.0</td>\n",
       "    </tr>\n",
       "  </tbody>\n",
       "</table>\n",
       "</div>"
      ],
      "text/plain": [
       "          診断群分類番号  入院期間Ⅰ（日）  入院期間Ⅱ（日）  入院期間Ⅲ（日）  入院期間Ⅰ（点）  入院期間Ⅱ（点）  入院期間Ⅲ（点）\n",
       "0  010010xx99000x       3.0       9.0      30.0    3278.0    2022.0    1719.0\n",
       "1  010010xx99001x       8.0      23.0      60.0    2667.0    2140.0    1819.0\n",
       "2  010010xx9901xx      10.0      30.0      90.0    2804.0    2252.0    1914.0\n",
       "3  010010xx9902xx       4.0      13.0      60.0    4855.0    2513.0    2053.0\n",
       "4  010010xx99030x       7.0      17.0      60.0    2444.0    1903.0    1618.0"
      ]
     },
     "execution_count": 75,
     "metadata": {},
     "output_type": "execute_result"
    }
   ],
   "source": [
    "mstr.head()"
   ]
  },
  {
   "cell_type": "code",
   "execution_count": 76,
   "metadata": {},
   "outputs": [],
   "source": [
    "eo_ms = pd.merge(ef_odr,mstr,on=\"診断群分類番号\",how='left')"
   ]
  },
  {
   "cell_type": "code",
   "execution_count": 72,
   "metadata": {
    "collapsed": true
   },
   "outputs": [],
   "source": [
    "# EFファイルからその日の出来高総点数を取得"
   ]
  },
  {
   "cell_type": "code",
   "execution_count": 78,
   "metadata": {
    "collapsed": true
   },
   "outputs": [],
   "source": [
    "deki = EF"
   ]
  },
  {
   "cell_type": "code",
   "execution_count": 79,
   "metadata": {},
   "outputs": [],
   "source": [
    "deki = deki[[\"データ識別番号\",\"入院年月日\",\"実施年月日\",\"出来高実績点数\",\"行為回数\"]]"
   ]
  },
  {
   "cell_type": "code",
   "execution_count": 80,
   "metadata": {},
   "outputs": [
    {
     "name": "stderr",
     "output_type": "stream",
     "text": [
      "C:\\Program Files\\Anaconda3\\lib\\site-packages\\ipykernel\\__main__.py:1: SettingWithCopyWarning: \n",
      "A value is trying to be set on a copy of a slice from a DataFrame.\n",
      "Try using .loc[row_indexer,col_indexer] = value instead\n",
      "\n",
      "See the caveats in the documentation: http://pandas.pydata.org/pandas-docs/stable/indexing.html#indexing-view-versus-copy\n",
      "  if __name__ == '__main__':\n"
     ]
    }
   ],
   "source": [
    "deki[\"日別出来高総点数\"] = deki[\"出来高実績点数\"]*deki[\"行為回数\"]"
   ]
  },
  {
   "cell_type": "code",
   "execution_count": 81,
   "metadata": {},
   "outputs": [
    {
     "name": "stderr",
     "output_type": "stream",
     "text": [
      "C:\\Program Files\\Anaconda3\\lib\\site-packages\\ipykernel\\__main__.py:1: SettingWithCopyWarning: \n",
      "A value is trying to be set on a copy of a slice from a DataFrame.\n",
      "Try using .loc[row_indexer,col_indexer] = value instead\n",
      "\n",
      "See the caveats in the documentation: http://pandas.pydata.org/pandas-docs/stable/indexing.html#indexing-view-versus-copy\n",
      "  if __name__ == '__main__':\n"
     ]
    }
   ],
   "source": [
    "deki[\"jkey\"] = deki[\"データ識別番号\"].apply(lambda x:str(x)) +\"_\"+ deki[\"実施年月日\"].apply(lambda x:str(x))"
   ]
  },
  {
   "cell_type": "code",
   "execution_count": 82,
   "metadata": {},
   "outputs": [],
   "source": [
    "dk = pd.DataFrame(deki.groupby([\"jkey\"])[\"日別出来高総点数\"].sum())"
   ]
  },
  {
   "cell_type": "code",
   "execution_count": 83,
   "metadata": {},
   "outputs": [],
   "source": [
    "dk = dk.reset_index()"
   ]
  },
  {
   "cell_type": "code",
   "execution_count": 84,
   "metadata": {},
   "outputs": [
    {
     "data": {
      "text/html": [
       "<div>\n",
       "<table border=\"1\" class=\"dataframe\">\n",
       "  <thead>\n",
       "    <tr style=\"text-align: right;\">\n",
       "      <th></th>\n",
       "      <th>jkey</th>\n",
       "      <th>日別出来高総点数</th>\n",
       "    </tr>\n",
       "  </thead>\n",
       "  <tbody>\n",
       "    <tr>\n",
       "      <th>0</th>\n",
       "      <td>100006_2017-01-12</td>\n",
       "      <td>4309.0</td>\n",
       "    </tr>\n",
       "    <tr>\n",
       "      <th>1</th>\n",
       "      <td>100006_2017-01-13</td>\n",
       "      <td>4998.0</td>\n",
       "    </tr>\n",
       "    <tr>\n",
       "      <th>2</th>\n",
       "      <td>100006_2017-01-16</td>\n",
       "      <td>8.0</td>\n",
       "    </tr>\n",
       "    <tr>\n",
       "      <th>3</th>\n",
       "      <td>100006_2017-01-17</td>\n",
       "      <td>8.0</td>\n",
       "    </tr>\n",
       "    <tr>\n",
       "      <th>4</th>\n",
       "      <td>100006_2017-01-18</td>\n",
       "      <td>8.0</td>\n",
       "    </tr>\n",
       "  </tbody>\n",
       "</table>\n",
       "</div>"
      ],
      "text/plain": [
       "                jkey  日別出来高総点数\n",
       "0  100006_2017-01-12    4309.0\n",
       "1  100006_2017-01-13    4998.0\n",
       "2  100006_2017-01-16       8.0\n",
       "3  100006_2017-01-17       8.0\n",
       "4  100006_2017-01-18       8.0"
      ]
     },
     "execution_count": 84,
     "metadata": {},
     "output_type": "execute_result"
    }
   ],
   "source": [
    "dk.head()"
   ]
  },
  {
   "cell_type": "code",
   "execution_count": 85,
   "metadata": {},
   "outputs": [
    {
     "data": {
      "text/plain": [
       "(8127, 2)"
      ]
     },
     "execution_count": 85,
     "metadata": {},
     "output_type": "execute_result"
    }
   ],
   "source": [
    "dk.shape"
   ]
  },
  {
   "cell_type": "code",
   "execution_count": 86,
   "metadata": {},
   "outputs": [],
   "source": [
    "eo_ms[\"jkey\"] = eo_ms[\"データ識別番号\"].apply(lambda x:str(x))+\"_\"+eo_ms[\"実施年月日\"].apply(lambda x:str(x))"
   ]
  },
  {
   "cell_type": "code",
   "execution_count": 87,
   "metadata": {},
   "outputs": [
    {
     "data": {
      "text/plain": [
       "(4530, 13)"
      ]
     },
     "execution_count": 87,
     "metadata": {},
     "output_type": "execute_result"
    }
   ],
   "source": [
    "eo_ms.shape"
   ]
  },
  {
   "cell_type": "code",
   "execution_count": 88,
   "metadata": {},
   "outputs": [],
   "source": [
    "eom_j = pd.merge(eo_ms,dk,on=\"jkey\",how='left')"
   ]
  },
  {
   "cell_type": "code",
   "execution_count": 90,
   "metadata": {},
   "outputs": [],
   "source": [
    "eom_j[\"入院期間Ⅰ（日）\"] = eom_j[\"入院期間Ⅰ（日）\"].fillna(0)\n",
    "eom_j[\"入院期間Ⅱ（日）\"] = eom_j[\"入院期間Ⅱ（日）\"].fillna(0)\n",
    "eom_j[\"入院期間Ⅲ（日）\"] = eom_j[\"入院期間Ⅲ（日）\"].fillna(0)"
   ]
  },
  {
   "cell_type": "code",
   "execution_count": 91,
   "metadata": {},
   "outputs": [],
   "source": [
    "eom_j[\"入院期間Ⅰ（点）\"] = eom_j[\"入院期間Ⅰ（点）\"].fillna(0)\n",
    "eom_j[\"入院期間Ⅱ（点）\"] = eom_j[\"入院期間Ⅱ（点）\"].fillna(0)\n",
    "eom_j[\"入院期間Ⅲ（点）\"] = eom_j[\"入院期間Ⅲ（点）\"].fillna(0)"
   ]
  },
  {
   "cell_type": "code",
   "execution_count": 92,
   "metadata": {},
   "outputs": [],
   "source": [
    "eom_j[\"入院期間Ⅰ（日）\"] = eom_j[\"入院期間Ⅰ（日）\"].apply(lambda x:datetime.timedelta(days=x))\n",
    "eom_j[\"入院期間Ⅱ（日）\"] = eom_j[\"入院期間Ⅱ（日）\"].apply(lambda x:datetime.timedelta(days=x))\n",
    "eom_j[\"入院期間Ⅲ（日）\"] = eom_j[\"入院期間Ⅲ（日）\"].apply(lambda x:datetime.timedelta(days=x))"
   ]
  },
  {
   "cell_type": "code",
   "execution_count": 93,
   "metadata": {
    "collapsed": true
   },
   "outputs": [],
   "source": [
    "def kikanhelper(df):\n",
    "    '''期間ヘルパー　在院日数を元にDPC入院期間カラムを作成します'''\n",
    "    Zaiin = df['在院日数']\n",
    "    Kikan1 = df['入院期間Ⅰ（日）']\n",
    "    Kikan2 = df['入院期間Ⅱ（日）']\n",
    "    Kikan3 = df['入院期間Ⅲ（日）']\n",
    "    DPCKIKAN = []\n",
    "    df[\"DPC期間\"] = \"\"\n",
    "\n",
    "    for zaiin,kikan1,kikan2,kikan3 in zip(Zaiin,Kikan1,Kikan2,Kikan3):\n",
    "        if zaiin == datetime.timedelta(days=0):\n",
    "            dpckikan = '出来高分岐'\n",
    "        elif zaiin <= kikan1:\n",
    "            dpckikan = '期間I'\n",
    "        elif zaiin > kikan1 and zaiin <= kikan2:\n",
    "            dpckikan = '期間II'\n",
    "        elif zaiin > kikan2 and zaiin <= kikan3:\n",
    "            dpckikan = '期間III'\n",
    "        else:\n",
    "            dpckikan = 'DPC期間超'\n",
    "        DPCKIKAN.append(dpckikan)\n",
    "        \n",
    "    df[\"DPC期間\"] = DPCKIKAN"
   ]
  },
  {
   "cell_type": "code",
   "execution_count": 94,
   "metadata": {
    "collapsed": true
   },
   "outputs": [],
   "source": [
    "def tensuhelper(df):\n",
    "    '''点数ヘルパー　期間ヘルパーが出したDPC期間を元に、\n",
    "    当該実施年月日のDPC点数を係数込みで返します'''\n",
    "    DPCKIKAN = df[\"DPC期間\"]\n",
    "    Ten1 = df['入院期間Ⅰ（点）']\n",
    "    Ten2 = df['入院期間Ⅱ（点）']\n",
    "    Ten3 = df['入院期間Ⅲ（点）']\n",
    "    Original = df['日別出来高総点数'] \n",
    "    '''↑これはサブパラメータ。元々は出来高データを元にしていたので、\n",
    "    DPC期間超後は出来高点数が入るように工夫していた。この辺のロジックは頑張って自力実装するか、期間超は無視するコードにするしか無いかも'''\n",
    "    DPCTEN = []\n",
    "    df[\"dpc総点数\"] = \"\"\n",
    "    \n",
    "    for dpckikan,ten1,ten2,ten3,original in zip(DPCKIKAN,Ten1,Ten2,Ten3,Original):\n",
    "        if dpckikan == '期間I':\n",
    "            dpcten = ten1 * cof\n",
    "        elif dpckikan == '期間II':\n",
    "            dpcten = ten2 * cof\n",
    "        elif dpckikan == '期間III':\n",
    "            dpcten = ten3 * cof\n",
    "        else:\n",
    "            dpcten = original\n",
    "        DPCTEN.append(dpcten)\n",
    "    \n",
    "    df[\"dpc総点数\"] = DPCTEN"
   ]
  },
  {
   "cell_type": "code",
   "execution_count": 95,
   "metadata": {},
   "outputs": [],
   "source": [
    "kikanhelper(eom_j)"
   ]
  },
  {
   "cell_type": "code",
   "execution_count": 97,
   "metadata": {},
   "outputs": [],
   "source": [
    "tensuhelper(eom_j)"
   ]
  },
  {
   "cell_type": "code",
   "execution_count": 77,
   "metadata": {
    "collapsed": true
   },
   "outputs": [],
   "source": [
    "# Step 3. Merge Step 1's table and Step 2's table and sort by patient's id and \"実施年月日\""
   ]
  },
  {
   "cell_type": "code",
   "execution_count": 2,
   "metadata": {},
   "outputs": [],
   "source": [
    "# Step 1's table\n",
    "#print(full,EFTEN,eften)"
   ]
  },
  {
   "cell_type": "code",
   "execution_count": 100,
   "metadata": {},
   "outputs": [
    {
     "data": {
      "text/plain": [
       "Index(['施設コード', 'データ識別番号', '退院年月日', '入院年月日', 'データ区分', '順序番号', '病院点数マスタコード',\n",
       "       'レセプト電算コード', '解釈番号', '診療明細名称', '行為点数', '行為薬剤料', '行為材料料', '円点区分', '行為回数',\n",
       "       '保険者番号', 'レセプト種別コード', '実施年月日', 'レセプト科区分', '診療科区分', '医師コード', '病棟コード',\n",
       "       '病棟区分', '入外区分', '施設タイプ', '算定開始日', '算定終了日', '算定起算日', '分類番号', '医療機関係数'],\n",
       "      dtype='object')"
      ]
     },
     "execution_count": 100,
     "metadata": {},
     "output_type": "execute_result"
    }
   ],
   "source": [
    "EFTEN.columns"
   ]
  },
  {
   "cell_type": "code",
   "execution_count": 3,
   "metadata": {},
   "outputs": [],
   "source": [
    "# Step 2's table\n",
    "#eom_j"
   ]
  },
  {
   "cell_type": "code",
   "execution_count": 86,
   "metadata": {
    "collapsed": true
   },
   "outputs": [],
   "source": [
    "#eom_j.to_excel(\"test_eom_j.xlsx\")"
   ]
  },
  {
   "cell_type": "code",
   "execution_count": 102,
   "metadata": {},
   "outputs": [],
   "source": [
    "ksh = pd.DataFrame(eom_j.groupby(\"key\")[\"実施年月日\"].min())"
   ]
  },
  {
   "cell_type": "code",
   "execution_count": 103,
   "metadata": {},
   "outputs": [],
   "source": [
    "ksh = ksh.reset_index()"
   ]
  },
  {
   "cell_type": "code",
   "execution_count": 104,
   "metadata": {
    "collapsed": true
   },
   "outputs": [],
   "source": [
    "ksh.rename(columns={\"実施年月日\":\"算定開始日\"},inplace=True)"
   ]
  },
  {
   "cell_type": "code",
   "execution_count": 105,
   "metadata": {},
   "outputs": [
    {
     "data": {
      "text/html": [
       "<div>\n",
       "<table border=\"1\" class=\"dataframe\">\n",
       "  <thead>\n",
       "    <tr style=\"text-align: right;\">\n",
       "      <th></th>\n",
       "      <th>key</th>\n",
       "      <th>算定開始日</th>\n",
       "    </tr>\n",
       "  </thead>\n",
       "  <tbody>\n",
       "    <tr>\n",
       "      <th>0</th>\n",
       "      <td>100006_2017-01-12</td>\n",
       "      <td>2017-01-12</td>\n",
       "    </tr>\n",
       "    <tr>\n",
       "      <th>1</th>\n",
       "      <td>100996_2017-01-16</td>\n",
       "      <td>2017-01-16</td>\n",
       "    </tr>\n",
       "  </tbody>\n",
       "</table>\n",
       "</div>"
      ],
      "text/plain": [
       "                 key       算定開始日\n",
       "0  100006_2017-01-12  2017-01-12\n",
       "1  100996_2017-01-16  2017-01-16"
      ]
     },
     "execution_count": 105,
     "metadata": {},
     "output_type": "execute_result"
    }
   ],
   "source": [
    "ksh.head(2)"
   ]
  },
  {
   "cell_type": "code",
   "execution_count": 106,
   "metadata": {},
   "outputs": [],
   "source": [
    "shr = pd.DataFrame(eom_j.groupby(\"key\")[\"実施年月日\"].max())"
   ]
  },
  {
   "cell_type": "code",
   "execution_count": 107,
   "metadata": {},
   "outputs": [],
   "source": [
    "shr = shr.reset_index()"
   ]
  },
  {
   "cell_type": "code",
   "execution_count": 108,
   "metadata": {
    "collapsed": true
   },
   "outputs": [],
   "source": [
    "shr.rename(columns={\"実施年月日\":\"算定終了日\"},inplace=True)"
   ]
  },
  {
   "cell_type": "code",
   "execution_count": 109,
   "metadata": {},
   "outputs": [
    {
     "data": {
      "text/html": [
       "<div>\n",
       "<table border=\"1\" class=\"dataframe\">\n",
       "  <thead>\n",
       "    <tr style=\"text-align: right;\">\n",
       "      <th></th>\n",
       "      <th>key</th>\n",
       "      <th>算定終了日</th>\n",
       "    </tr>\n",
       "  </thead>\n",
       "  <tbody>\n",
       "    <tr>\n",
       "      <th>0</th>\n",
       "      <td>100006_2017-01-12</td>\n",
       "      <td>2017-01-19</td>\n",
       "    </tr>\n",
       "    <tr>\n",
       "      <th>1</th>\n",
       "      <td>100996_2017-01-16</td>\n",
       "      <td>2017-01-18</td>\n",
       "    </tr>\n",
       "  </tbody>\n",
       "</table>\n",
       "</div>"
      ],
      "text/plain": [
       "                 key       算定終了日\n",
       "0  100006_2017-01-12  2017-01-19\n",
       "1  100996_2017-01-16  2017-01-18"
      ]
     },
     "execution_count": 109,
     "metadata": {},
     "output_type": "execute_result"
    }
   ],
   "source": [
    "shr.head(2)"
   ]
  },
  {
   "cell_type": "code",
   "execution_count": 110,
   "metadata": {},
   "outputs": [
    {
     "data": {
      "text/plain": [
       "(335108, 30)"
      ]
     },
     "execution_count": 110,
     "metadata": {},
     "output_type": "execute_result"
    }
   ],
   "source": [
    "full.shape"
   ]
  },
  {
   "cell_type": "code",
   "execution_count": 111,
   "metadata": {},
   "outputs": [
    {
     "data": {
      "text/plain": [
       "(22711, 30)"
      ]
     },
     "execution_count": 111,
     "metadata": {},
     "output_type": "execute_result"
    }
   ],
   "source": [
    "eften.shape"
   ]
  },
  {
   "cell_type": "code",
   "execution_count": 112,
   "metadata": {},
   "outputs": [
    {
     "data": {
      "text/plain": [
       "(312397, 30)"
      ]
     },
     "execution_count": 112,
     "metadata": {},
     "output_type": "execute_result"
    }
   ],
   "source": [
    "EFTEN.shape"
   ]
  },
  {
   "cell_type": "code",
   "execution_count": 113,
   "metadata": {},
   "outputs": [],
   "source": [
    "#taiin[\"key\"] = taiin[\"データ識別番号\"].apply(lambda x:str(x)) +\"_\"+ taiin[\"入院年月日\"].apply(lambda x:str(x))\n",
    "full[\"key\"] = full[\"データ識別番号\"].apply(lambda x:str(x)) +\"_\"+ full[\"入院年月日\"].apply(lambda x:str(x)) \n",
    "eften[\"key\"] = eften[\"データ識別番号\"].apply(lambda x:str(x)) +\"_\"+ eften[\"入院年月日\"].apply(lambda x:str(x)) \n",
    "EFTEN[\"key\"] = EFTEN[\"データ識別番号\"].apply(lambda x:str(x)) +\"_\"+ EFTEN[\"入院年月日\"].apply(lambda x:str(x)) "
   ]
  },
  {
   "cell_type": "code",
   "execution_count": 171,
   "metadata": {},
   "outputs": [],
   "source": [
    "#taiin"
   ]
  },
  {
   "cell_type": "code",
   "execution_count": 117,
   "metadata": {},
   "outputs": [],
   "source": [
    "#taiin.drop([\"算定開始日\",\"算定終了日\",\"算定起算日\",\"分類番号\"],1,inplace=True)\n",
    "full.drop([\"算定開始日\",\"算定終了日\",\"算定起算日\",\"分類番号\"],1,inplace=True)\n",
    "eften.drop([\"算定開始日\",\"算定終了日\",\"算定起算日\",\"分類番号\"],1,inplace=True)\n",
    "EFTEN.drop([\"算定開始日\",\"算定終了日\",\"算定起算日\",\"分類番号\"],1,inplace=True)"
   ]
  },
  {
   "cell_type": "code",
   "execution_count": 111,
   "metadata": {},
   "outputs": [],
   "source": [
    "#taiin"
   ]
  },
  {
   "cell_type": "code",
   "execution_count": 121,
   "metadata": {},
   "outputs": [],
   "source": [
    "#taiin = pd.merge(taiin,ksh,on=\"key\",how='left')\n",
    "full = pd.merge(full,ksh,on=\"key\",how='left')\n",
    "eften = pd.merge(eften,ksh,on=\"key\",how='left')\n",
    "EFTEN = pd.merge(EFTEN,ksh,on=\"key\",how='left')"
   ]
  },
  {
   "cell_type": "code",
   "execution_count": 122,
   "metadata": {},
   "outputs": [],
   "source": [
    "#taiin = pd.merge(taiin,shr,on=\"key\",how='left')\n",
    "full = pd.merge(full,shr,on=\"key\",how='left')\n",
    "eften = pd.merge(eften,shr,on=\"key\",how='left')\n",
    "EFTEN = pd.merge(EFTEN,shr,on=\"key\",how='left')"
   ]
  },
  {
   "cell_type": "code",
   "execution_count": 123,
   "metadata": {},
   "outputs": [],
   "source": [
    "#taiin[\"算定起算日\"] = taiin[\"算定開始日\"]\n",
    "full[\"算定起算日\"] = full[\"算定開始日\"]\n",
    "eften[\"算定起算日\"] = eften[\"算定開始日\"]\n",
    "EFTEN[\"算定起算日\"] = EFTEN[\"算定開始日\"]"
   ]
  },
  {
   "cell_type": "code",
   "execution_count": 182,
   "metadata": {},
   "outputs": [],
   "source": [
    "#taiin"
   ]
  },
  {
   "cell_type": "code",
   "execution_count": 127,
   "metadata": {},
   "outputs": [],
   "source": [
    "bun = eom_j[[\"jkey\",\"診断群分類番号\"]]"
   ]
  },
  {
   "cell_type": "code",
   "execution_count": 128,
   "metadata": {},
   "outputs": [
    {
     "name": "stderr",
     "output_type": "stream",
     "text": [
      "C:\\Program Files\\Anaconda3\\lib\\site-packages\\pandas\\core\\frame.py:2834: SettingWithCopyWarning: \n",
      "A value is trying to be set on a copy of a slice from a DataFrame\n",
      "\n",
      "See the caveats in the documentation: http://pandas.pydata.org/pandas-docs/stable/indexing.html#indexing-view-versus-copy\n",
      "  **kwargs)\n"
     ]
    }
   ],
   "source": [
    "bun.rename(columns={\"診断群分類番号\":\"分類番号\"},inplace=True)"
   ]
  },
  {
   "cell_type": "code",
   "execution_count": 129,
   "metadata": {},
   "outputs": [],
   "source": [
    "bun = bun[~(bun[\"分類番号\"].isnull())]"
   ]
  },
  {
   "cell_type": "code",
   "execution_count": 188,
   "metadata": {},
   "outputs": [],
   "source": [
    "#taiin.shape"
   ]
  },
  {
   "cell_type": "code",
   "execution_count": 133,
   "metadata": {},
   "outputs": [
    {
     "data": {
      "text/plain": [
       "(335108, 30)"
      ]
     },
     "execution_count": 133,
     "metadata": {},
     "output_type": "execute_result"
    }
   ],
   "source": [
    "full.shape"
   ]
  },
  {
   "cell_type": "code",
   "execution_count": 130,
   "metadata": {},
   "outputs": [
    {
     "data": {
      "text/plain": [
       "(22711, 30)"
      ]
     },
     "execution_count": 130,
     "metadata": {},
     "output_type": "execute_result"
    }
   ],
   "source": [
    "eften.shape"
   ]
  },
  {
   "cell_type": "code",
   "execution_count": 131,
   "metadata": {},
   "outputs": [
    {
     "data": {
      "text/plain": [
       "(312397, 30)"
      ]
     },
     "execution_count": 131,
     "metadata": {},
     "output_type": "execute_result"
    }
   ],
   "source": [
    "EFTEN.shape"
   ]
  },
  {
   "cell_type": "code",
   "execution_count": 134,
   "metadata": {},
   "outputs": [
    {
     "data": {
      "text/plain": [
       "(2688, 2)"
      ]
     },
     "execution_count": 134,
     "metadata": {},
     "output_type": "execute_result"
    }
   ],
   "source": [
    "bun.shape"
   ]
  },
  {
   "cell_type": "code",
   "execution_count": 135,
   "metadata": {},
   "outputs": [],
   "source": [
    "bun.drop_duplicates(\"jkey\",inplace=True)"
   ]
  },
  {
   "cell_type": "code",
   "execution_count": 136,
   "metadata": {},
   "outputs": [
    {
     "data": {
      "text/plain": [
       "(2688, 2)"
      ]
     },
     "execution_count": 136,
     "metadata": {},
     "output_type": "execute_result"
    }
   ],
   "source": [
    "bun.shape"
   ]
  },
  {
   "cell_type": "code",
   "execution_count": 137,
   "metadata": {},
   "outputs": [],
   "source": [
    "#taiin[\"jkey\"] = taiin[\"データ識別番号\"].apply(lambda x:str(x)) +\"_\"+ taiin[\"実施年月日\"].apply(lambda x:str(x))\n",
    "full[\"jkey\"] = full[\"データ識別番号\"].apply(lambda x:str(x)) +\"_\"+ full[\"実施年月日\"].apply(lambda x:str(x))\n",
    "eften[\"jkey\"] = eften[\"データ識別番号\"].apply(lambda x:str(x)) +\"_\"+ eften[\"実施年月日\"].apply(lambda x:str(x))\n",
    "EFTEN[\"jkey\"] = EFTEN[\"データ識別番号\"].apply(lambda x:str(x)) +\"_\"+ EFTEN[\"実施年月日\"].apply(lambda x:str(x))"
   ]
  },
  {
   "cell_type": "code",
   "execution_count": 138,
   "metadata": {},
   "outputs": [],
   "source": [
    "#tb = pd.merge(taiin,bun,on=\"jkey\",how='left')\n",
    "fl = pd.merge(full,bun,on=\"jkey\",how='left')\n",
    "eb = pd.merge(eften,bun,on=\"jkey\",how='left')\n",
    "EB = pd.merge(EFTEN,bun,on=\"jkey\",how='left')"
   ]
  },
  {
   "cell_type": "code",
   "execution_count": 173,
   "metadata": {
    "collapsed": true
   },
   "outputs": [],
   "source": [
    "##tb.to_excel(\"test_tb.xlsx\")\n",
    "#eb.to_excel(\"tet_eb.xlsx\")\n",
    "#EB.to_excel(\"test_EB.xlsx\")"
   ]
  },
  {
   "cell_type": "code",
   "execution_count": 196,
   "metadata": {},
   "outputs": [],
   "source": [
    "#tb.shape"
   ]
  },
  {
   "cell_type": "code",
   "execution_count": 139,
   "metadata": {},
   "outputs": [
    {
     "data": {
      "text/plain": [
       "(335108, 32)"
      ]
     },
     "execution_count": 139,
     "metadata": {},
     "output_type": "execute_result"
    }
   ],
   "source": [
    "fl.shape"
   ]
  },
  {
   "cell_type": "code",
   "execution_count": 140,
   "metadata": {},
   "outputs": [
    {
     "data": {
      "text/plain": [
       "(22711, 32)"
      ]
     },
     "execution_count": 140,
     "metadata": {},
     "output_type": "execute_result"
    }
   ],
   "source": [
    "eb.shape"
   ]
  },
  {
   "cell_type": "code",
   "execution_count": 141,
   "metadata": {},
   "outputs": [
    {
     "data": {
      "text/plain": [
       "(312397, 32)"
      ]
     },
     "execution_count": 141,
     "metadata": {},
     "output_type": "execute_result"
    }
   ],
   "source": [
    "EB.shape"
   ]
  },
  {
   "cell_type": "code",
   "execution_count": 142,
   "metadata": {},
   "outputs": [],
   "source": [
    "# 包括期間内のレコードを抽出\n",
    "comp = eom_j[~(eom_j[\"DPC期間\"] == \"DPC期間超\")]"
   ]
  },
  {
   "cell_type": "code",
   "execution_count": 144,
   "metadata": {},
   "outputs": [],
   "source": [
    "cmplist = comp[\"jkey\"]"
   ]
  },
  {
   "cell_type": "code",
   "execution_count": 146,
   "metadata": {},
   "outputs": [],
   "source": [
    "# 包括期間内レコードは削除(期間外の出来高分のみ抽出)\n",
    "EB = EB[~(EB[\"jkey\"].isin(cmplist))]"
   ]
  },
  {
   "cell_type": "code",
   "execution_count": 147,
   "metadata": {},
   "outputs": [
    {
     "data": {
      "text/plain": [
       "(208147, 32)"
      ]
     },
     "execution_count": 147,
     "metadata": {},
     "output_type": "execute_result"
    }
   ],
   "source": [
    "EB.shape"
   ]
  },
  {
   "cell_type": "code",
   "execution_count": 138,
   "metadata": {},
   "outputs": [],
   "source": [
    "#tb.shape"
   ]
  },
  {
   "cell_type": "code",
   "execution_count": 148,
   "metadata": {},
   "outputs": [
    {
     "data": {
      "text/plain": [
       "(335108, 32)"
      ]
     },
     "execution_count": 148,
     "metadata": {},
     "output_type": "execute_result"
    }
   ],
   "source": [
    "fl.shape"
   ]
  },
  {
   "cell_type": "code",
   "execution_count": 149,
   "metadata": {},
   "outputs": [
    {
     "data": {
      "text/plain": [
       "(22711, 32)"
      ]
     },
     "execution_count": 149,
     "metadata": {},
     "output_type": "execute_result"
    }
   ],
   "source": [
    "eb.shape"
   ]
  },
  {
   "cell_type": "code",
   "execution_count": 140,
   "metadata": {
    "collapsed": true
   },
   "outputs": [],
   "source": [
    "#eb = pd.concat([tb,eb])"
   ]
  },
  {
   "cell_type": "code",
   "execution_count": 150,
   "metadata": {
    "collapsed": true
   },
   "outputs": [],
   "source": [
    "EetBbb = pd.concat([EB,eb])"
   ]
  },
  {
   "cell_type": "code",
   "execution_count": 151,
   "metadata": {},
   "outputs": [
    {
     "data": {
      "text/plain": [
       "(230858, 32)"
      ]
     },
     "execution_count": 151,
     "metadata": {},
     "output_type": "execute_result"
    }
   ],
   "source": [
    "EetBbb.shape"
   ]
  },
  {
   "cell_type": "code",
   "execution_count": 152,
   "metadata": {
    "collapsed": true
   },
   "outputs": [],
   "source": [
    "EetBbb.reset_index(inplace=True)"
   ]
  },
  {
   "cell_type": "code",
   "execution_count": 153,
   "metadata": {},
   "outputs": [],
   "source": [
    "EetBbb.drop(\"index\",1,inplace=True)"
   ]
  },
  {
   "cell_type": "code",
   "execution_count": 4,
   "metadata": {},
   "outputs": [],
   "source": [
    "#EetBbb\n",
    "# EFファイルの内、出来高レコード(eften)と、包括レコード(EFTEN)のうちdpc期間外（出来高）をconcatしたもの"
   ]
  },
  {
   "cell_type": "code",
   "execution_count": 189,
   "metadata": {
    "collapsed": true
   },
   "outputs": [],
   "source": [
    "#　このあと、レセプト電算コード930000000となるレコード(包括期間内のレコード)をどっかから持ってきてEetBbbにconcat"
   ]
  },
  {
   "cell_type": "code",
   "execution_count": 155,
   "metadata": {},
   "outputs": [],
   "source": [
    "#　診断群分類番号が入っているレコードのみ取得\n",
    "dpc = eom_j[~(eom_j[\"診断群分類番号\"].isnull())]"
   ]
  },
  {
   "cell_type": "code",
   "execution_count": 156,
   "metadata": {},
   "outputs": [
    {
     "name": "stderr",
     "output_type": "stream",
     "text": [
      "C:\\Program Files\\Anaconda3\\lib\\site-packages\\ipykernel\\__main__.py:1: SettingWithCopyWarning: \n",
      "A value is trying to be set on a copy of a slice from a DataFrame.\n",
      "Try using .loc[row_indexer,col_indexer] = value instead\n",
      "\n",
      "See the caveats in the documentation: http://pandas.pydata.org/pandas-docs/stable/indexing.html#indexing-view-versus-copy\n",
      "  if __name__ == '__main__':\n"
     ]
    }
   ],
   "source": [
    "dpc[\"DPC入院料\"] = \"\""
   ]
  },
  {
   "cell_type": "code",
   "execution_count": 157,
   "metadata": {},
   "outputs": [],
   "source": [
    "dpc = dpc.reset_index()"
   ]
  },
  {
   "cell_type": "code",
   "execution_count": 158,
   "metadata": {},
   "outputs": [],
   "source": [
    "dpc = dpc.drop(\"index\",1)"
   ]
  },
  {
   "cell_type": "code",
   "execution_count": 156,
   "metadata": {},
   "outputs": [],
   "source": [
    "#ddpc = dd.from_pandas(dpc,2)"
   ]
  },
  {
   "cell_type": "code",
   "execution_count": 160,
   "metadata": {},
   "outputs": [
    {
     "data": {
      "text/plain": [
       "'\\n# using dask dataframe\\nfor i in ddpc.index:\\n    if ddpc.loc[i,\"DPC期間\"] == \"期間I\":\\n        ddpc.loc[i,\"DPC入院料\"] = ddpc.loc[i,\"入院期間Ⅰ（点）\"]\\n    elif ddpc.loc[i,\"DPC期間\"] == \"期間II\":\\n        ddpc.loc[i,\"DPC入院料\"] = ddpc.loc[i,\"入院期間Ⅱ（点）\"]\\n    elif ddpc.loc[i,\"DPC期間\"] == \"期間III\":\\n        ddpc.loc[i,\"DPC入院料\"] = ddpc.loc[i,\"入院期間Ⅲ（点）\"]\\n    else:\\n        pass\\n'"
      ]
     },
     "execution_count": 160,
     "metadata": {},
     "output_type": "execute_result"
    }
   ],
   "source": [
    "'''\n",
    "# using dask dataframe\n",
    "for i in ddpc.index:\n",
    "    if ddpc.loc[i,\"DPC期間\"] == \"期間I\":\n",
    "        ddpc.loc[i,\"DPC入院料\"] = ddpc.loc[i,\"入院期間Ⅰ（点）\"]\n",
    "    elif ddpc.loc[i,\"DPC期間\"] == \"期間II\":\n",
    "        ddpc.loc[i,\"DPC入院料\"] = ddpc.loc[i,\"入院期間Ⅱ（点）\"]\n",
    "    elif ddpc.loc[i,\"DPC期間\"] == \"期間III\":\n",
    "        ddpc.loc[i,\"DPC入院料\"] = ddpc.loc[i,\"入院期間Ⅲ（点）\"]\n",
    "    else:\n",
    "        pass\n",
    "'''"
   ]
  },
  {
   "cell_type": "code",
   "execution_count": 159,
   "metadata": {},
   "outputs": [],
   "source": [
    "for i in dpc.index:\n",
    "    if dpc.loc[i,\"DPC期間\"] == \"期間I\":\n",
    "        dpc.loc[i,\"DPC入院料\"] = dpc.loc[i,\"入院期間Ⅰ（点）\"]\n",
    "    elif dpc.loc[i,\"DPC期間\"] == \"期間II\":\n",
    "        dpc.loc[i,\"DPC入院料\"] = dpc.loc[i,\"入院期間Ⅱ（点）\"]\n",
    "    elif dpc.loc[i,\"DPC期間\"] == \"期間III\":\n",
    "        dpc.loc[i,\"DPC入院料\"] = dpc.loc[i,\"入院期間Ⅲ（点）\"]\n",
    "    else:\n",
    "        pass"
   ]
  },
  {
   "cell_type": "code",
   "execution_count": 5,
   "metadata": {},
   "outputs": [],
   "source": [
    "#dpc\n",
    "# このデータを使えば実施年月日ごとに出来高点数とＤＰＣ入院料との差分を把握できる。"
   ]
  },
  {
   "cell_type": "code",
   "execution_count": 163,
   "metadata": {},
   "outputs": [],
   "source": [
    "# jkeyで重複を削除（ＤＰＣ入院料レコード作成のため）\n",
    "nyu = fl.drop_duplicates(\"jkey\")"
   ]
  },
  {
   "cell_type": "code",
   "execution_count": 165,
   "metadata": {},
   "outputs": [
    {
     "name": "stderr",
     "output_type": "stream",
     "text": [
      "C:\\Program Files\\Anaconda3\\lib\\site-packages\\ipykernel\\__main__.py:1: SettingWithCopyWarning: \n",
      "A value is trying to be set on a copy of a slice from a DataFrame\n",
      "\n",
      "See the caveats in the documentation: http://pandas.pydata.org/pandas-docs/stable/indexing.html#indexing-view-versus-copy\n",
      "  if __name__ == '__main__':\n"
     ]
    }
   ],
   "source": [
    "nyu.sort_values([\"データ識別番号\",\"実施年月日\"],inplace=True)"
   ]
  },
  {
   "cell_type": "code",
   "execution_count": 166,
   "metadata": {},
   "outputs": [],
   "source": [
    "nyu = nyu.reset_index()"
   ]
  },
  {
   "cell_type": "code",
   "execution_count": 167,
   "metadata": {},
   "outputs": [],
   "source": [
    "nyu = nyu.drop(\"index\",1)"
   ]
  },
  {
   "cell_type": "code",
   "execution_count": 168,
   "metadata": {},
   "outputs": [],
   "source": [
    "# nyuに\"在院日数\"を付加\n",
    "nyu[\"在院日数\"] = nyu[\"実施年月日\"] - nyu[\"入院年月日\"] + datetime.timedelta(days=1)"
   ]
  },
  {
   "cell_type": "code",
   "execution_count": 170,
   "metadata": {},
   "outputs": [
    {
     "name": "stdout",
     "output_type": "stream",
     "text": [
      "<class 'pandas.core.frame.DataFrame'>\n",
      "RangeIndex: 2688 entries, 0 to 2687\n",
      "Data columns (total 17 columns):\n",
      "データ識別番号     2688 non-null int64\n",
      "入院年月日       2688 non-null object\n",
      "実施年月日       2688 non-null object\n",
      "在院日数        2688 non-null timedelta64[ns]\n",
      "key         2688 non-null object\n",
      "診断群分類番号     2688 non-null object\n",
      "入院期間Ⅰ（日）    2688 non-null timedelta64[ns]\n",
      "入院期間Ⅱ（日）    2688 non-null timedelta64[ns]\n",
      "入院期間Ⅲ（日）    2688 non-null timedelta64[ns]\n",
      "入院期間Ⅰ（点）    2688 non-null float64\n",
      "入院期間Ⅱ（点）    2688 non-null float64\n",
      "入院期間Ⅲ（点）    2688 non-null float64\n",
      "jkey        2688 non-null object\n",
      "日別出来高総点数    2688 non-null float64\n",
      "DPC期間       2688 non-null object\n",
      "dpc総点数      2688 non-null float64\n",
      "DPC入院料      2688 non-null object\n",
      "dtypes: float64(5), int64(1), object(7), timedelta64[ns](4)\n",
      "memory usage: 283.5+ KB\n"
     ]
    }
   ],
   "source": [
    "dpc.info()"
   ]
  },
  {
   "cell_type": "code",
   "execution_count": 171,
   "metadata": {},
   "outputs": [
    {
     "name": "stdout",
     "output_type": "stream",
     "text": [
      "<class 'pandas.core.frame.DataFrame'>\n",
      "RangeIndex: 8127 entries, 0 to 8126\n",
      "Data columns (total 33 columns):\n",
      "施設コード         8127 non-null object\n",
      "データ識別番号       8127 non-null int64\n",
      "退院年月日         8127 non-null object\n",
      "入院年月日         8127 non-null object\n",
      "データ区分         8127 non-null float64\n",
      "順序番号          8127 non-null float64\n",
      "病院点数マスタコード    8127 non-null float64\n",
      "レセプト電算コード     8127 non-null float64\n",
      "解釈番号          8127 non-null object\n",
      "診療明細名称        8127 non-null object\n",
      "行為点数          8127 non-null float64\n",
      "行為薬剤料         8127 non-null float64\n",
      "行為材料料         8127 non-null float64\n",
      "円点区分          8127 non-null float64\n",
      "行為回数          8127 non-null float64\n",
      "保険者番号         8102 non-null float64\n",
      "レセプト種別コード     8102 non-null float64\n",
      "実施年月日         8127 non-null object\n",
      "レセプト科区分       8102 non-null float64\n",
      "診療科区分         8127 non-null object\n",
      "医師コード         8127 non-null object\n",
      "病棟コード         8127 non-null object\n",
      "病棟区分          8127 non-null float64\n",
      "入外区分          8102 non-null object\n",
      "施設タイプ         0 non-null object\n",
      "医療機関係数        0 non-null float64\n",
      "key           8127 non-null object\n",
      "算定開始日         4530 non-null object\n",
      "算定終了日         4530 non-null object\n",
      "算定起算日         4530 non-null object\n",
      "jkey          8127 non-null object\n",
      "分類番号          2688 non-null object\n",
      "在院日数          8127 non-null timedelta64[ns]\n",
      "dtypes: float64(14), int64(1), object(17), timedelta64[ns](1)\n",
      "memory usage: 1.5+ MB\n"
     ]
    }
   ],
   "source": [
    "nyu.info()"
   ]
  },
  {
   "cell_type": "code",
   "execution_count": 145,
   "metadata": {},
   "outputs": [],
   "source": [
    "#nyu.reset_index(inplace=True)"
   ]
  },
  {
   "cell_type": "code",
   "execution_count": 146,
   "metadata": {},
   "outputs": [],
   "source": [
    "#dpc.reset_index(inplace=True)"
   ]
  },
  {
   "cell_type": "code",
   "execution_count": 175,
   "metadata": {},
   "outputs": [
    {
     "data": {
      "text/plain": [
       "240"
      ]
     },
     "execution_count": 175,
     "metadata": {},
     "output_type": "execute_result"
    }
   ],
   "source": [
    "nyu[\"在院日数\"].dt.days[0]"
   ]
  },
  {
   "cell_type": "code",
   "execution_count": 176,
   "metadata": {},
   "outputs": [
    {
     "data": {
      "text/plain": [
       "21.0"
      ]
     },
     "execution_count": 176,
     "metadata": {},
     "output_type": "execute_result"
    }
   ],
   "source": [
    "nyu.loc[0,\"データ区分\"]"
   ]
  },
  {
   "cell_type": "code",
   "execution_count": 178,
   "metadata": {},
   "outputs": [
    {
     "name": "stdout",
     "output_type": "stream",
     "text": [
      "<class 'pandas.core.frame.DataFrame'>\n",
      "RangeIndex: 8127 entries, 0 to 8126\n",
      "Data columns (total 33 columns):\n",
      "施設コード         8127 non-null object\n",
      "データ識別番号       8127 non-null int64\n",
      "退院年月日         8127 non-null object\n",
      "入院年月日         8127 non-null object\n",
      "データ区分         8127 non-null float64\n",
      "順序番号          8127 non-null float64\n",
      "病院点数マスタコード    8127 non-null float64\n",
      "レセプト電算コード     8127 non-null float64\n",
      "解釈番号          8127 non-null object\n",
      "診療明細名称        8127 non-null object\n",
      "行為点数          8127 non-null float64\n",
      "行為薬剤料         8127 non-null float64\n",
      "行為材料料         8127 non-null float64\n",
      "円点区分          8127 non-null float64\n",
      "行為回数          8127 non-null float64\n",
      "保険者番号         8102 non-null float64\n",
      "レセプト種別コード     8102 non-null float64\n",
      "実施年月日         8127 non-null object\n",
      "レセプト科区分       8102 non-null float64\n",
      "診療科区分         8127 non-null object\n",
      "医師コード         8127 non-null object\n",
      "病棟コード         8127 non-null object\n",
      "病棟区分          8127 non-null float64\n",
      "入外区分          8102 non-null object\n",
      "施設タイプ         0 non-null object\n",
      "医療機関係数        0 non-null float64\n",
      "key           8127 non-null object\n",
      "算定開始日         4530 non-null object\n",
      "算定終了日         4530 non-null object\n",
      "算定起算日         4530 non-null object\n",
      "jkey          8127 non-null object\n",
      "分類番号          2688 non-null object\n",
      "在院日数          8127 non-null timedelta64[ns]\n",
      "dtypes: float64(14), int64(1), object(17), timedelta64[ns](1)\n",
      "memory usage: 1.5+ MB\n"
     ]
    }
   ],
   "source": [
    "nyu.info()"
   ]
  },
  {
   "cell_type": "code",
   "execution_count": 179,
   "metadata": {},
   "outputs": [],
   "source": [
    "nyu[\"dnz_key\"] = nyu[\"データ識別番号\"].apply(lambda x:str(x))+\"_\"+nyu[\"入院年月日\"].apply(lambda x:str(x))+\"_\"+nyu[\"在院日数\"].dt.days.apply(lambda x:str(x))"
   ]
  },
  {
   "cell_type": "code",
   "execution_count": 180,
   "metadata": {},
   "outputs": [],
   "source": [
    "dpc[\"dnz_key\"] = dpc[\"データ識別番号\"].apply(lambda x:str(x))+\"_\"+dpc[\"入院年月日\"].apply(lambda x:str(x))+\"_\"+dpc[\"在院日数\"].dt.days.apply(lambda x:str(x))"
   ]
  },
  {
   "cell_type": "code",
   "execution_count": 181,
   "metadata": {
    "collapsed": true
   },
   "outputs": [],
   "source": [
    "# nyuとdpcを使う。データ識別番号と入院年月日と在院日数で見て、合致していれば、nyuの各カラムを上書き：\n",
    "\n",
    "# \"データ区分\" = 93,\n",
    "# \"順序番号\" =　int(\"在院日数\")\n",
    "# \"病院点数マスタコード\" = 0\n",
    "# \"レセプト電算コード\" = 930000000\n",
    "# \"解釈番号\" =　\"\"\n",
    "# \"診療明細名称\" =　dpc.\"診断群分類番号\"  ←あとでdpcmasterからテーブルを抜いてきて日本語名称（例：　貧血（その他）　手術あり　手術・処置等２　なし　に書き換え\n",
    "# \"行為点数\" = dpc.\"DPC入院料\"\n",
    "# \"行為薬剤料\" =　0\n",
    "# \"行為材料料\" = 0\n",
    "# \"円点区分\" = 0\n",
    "# \"行為回数\" = 1\n",
    "\n",
    "def my93(dx,dy):\n",
    "    for i in dx.index:\n",
    "        if dx.loc[i,\"dnz_key\"] in dy[\"dnz_key\"].tolist():\n",
    "            item = dx.loc[i,\"dnz_key\"]\n",
    "            j = dy[dy[\"dnz_key\"]==item].index[0]\n",
    "            dx.loc[i,\"データ区分\"] = 93\n",
    "            dx.loc[i,\"順序番号\"] = dx[\"在院日数\"].dt.days[i]\n",
    "            dx.loc[i,\"病院点数マスタコード\"] = 0\n",
    "            dx.loc[i,\"レセプト電算コード\"] = 930000000\n",
    "            dx.loc[i,\"解釈番号\"] = \"\"\n",
    "            dx.loc[i,\"診療明細名称\"] = dy.loc[j,\"診断群分類番号\"]\n",
    "            dx.loc[i,\"行為点数\"] = dy.loc[j,\"DPC入院料\"]\n",
    "            dx.loc[i,\"行為薬剤料\"] = 0\n",
    "            dx.loc[i,\"行為材料料\"] = 0\n",
    "            dx.loc[i,\"円点区分\"] = 0\n",
    "            dx.loc[i,\"行為回数\"] = 1\n",
    "        else:\n",
    "            pass\n"
   ]
  },
  {
   "cell_type": "code",
   "execution_count": 182,
   "metadata": {},
   "outputs": [],
   "source": [
    "dpc_short = dpc[[\"dnz_key\",\"診断群分類番号\",\"DPC入院料\"]]"
   ]
  },
  {
   "cell_type": "code",
   "execution_count": 183,
   "metadata": {
    "collapsed": true
   },
   "outputs": [],
   "source": [
    "my93(nyu,dpc_short)"
   ]
  },
  {
   "cell_type": "code",
   "execution_count": 185,
   "metadata": {
    "collapsed": true
   },
   "outputs": [],
   "source": [
    "'''\n",
    "# nyuとdpcを使う。データ識別番号と入院年月日と在院日数で見て、合致していれば、nyuの各カラムを上書き：\n",
    "\n",
    "# \"データ区分\" = 93,\n",
    "# \"順序番号\" =　int(\"在院日数\")\n",
    "# \"病院点数マスタコード\" = 0\n",
    "# \"レセプト電算コード\" = 930000000\n",
    "# \"解釈番号\" =　\"\"\n",
    "# \"診療明細名称\" =　dpc.\"診断群分類番号\"  ←あとでdpcmasterからテーブルを抜いてきて日本語名称（例：　貧血（その他）　手術あり　手術・処置等２　なし　に書き換え\n",
    "# \"行為点数\" = dpc.\"DPC入院料\"\n",
    "# \"行為薬剤料\" =　0\n",
    "# \"行為材料料\" = 0\n",
    "# \"円点区分\" = 0\n",
    "# \"行為回数\" = 1\n",
    "\n",
    "@numba.jit\n",
    "def my93a(dx,dy):\n",
    "    for i in dx.index:\n",
    "        for j in dy.index:\n",
    "            if dx.loc[i,\"dnz_key\"] == dy.loc[j,\"dnz_key\"]:\n",
    "                dx.loc[i,\"データ区分\"] = 93\n",
    "                dx.loc[i,\"順序番号\"] = dx[\"在院日数\"].dt.days[i]\n",
    "                dx.loc[i,\"病院点数マスタコード\"] = 0\n",
    "                dx.loc[i,\"レセプト電算コード\"] = 930000000\n",
    "                dx.loc[i,\"解釈番号\"] = \"\"\n",
    "                #dx.loc[i,\"診療明細名称\"] = dy.loc[j,\"診断群分類番号\"]\n",
    "                #dx.loc[i,\"行為点数\"] = dy.loc[j,\"DPC入院料\"]\n",
    "                dx.loc[i,\"行為薬剤料\"] = 0\n",
    "                dx.loc[i,\"行為材料料\"] = 0\n",
    "                dx.loc[i,\"円点区分\"] = 0\n",
    "                dx.loc[i,\"行為回数\"] = 1\n",
    "            else:\n",
    "                pass\n",
    "\n",
    "@numba.jit\n",
    "def my93b(dx,dy):\n",
    "    for i in dx.index:\n",
    "        for j in dy.index:\n",
    "            if dx.loc[i,\"dnz_key\"] == dy.loc[j,\"dnz_key\"]:\n",
    "                #dx.loc[i,\"データ区分\"] = 93\n",
    "                #dx.loc[i,\"順序番号\"] = dx[\"在院日数\"].dt.days[i]\n",
    "                #dx.loc[i,\"病院点数マスタコード\"] = 0\n",
    "                #dx.loc[i,\"レセプト電算コード\"] = 930000000\n",
    "                #dx.loc[i,\"解釈番号\"] = \"\"\n",
    "                dx.loc[i,\"診療明細名称\"] = dy.loc[j,\"診断群分類番号\"]\n",
    "                dx.loc[i,\"行為点数\"] = dy.loc[j,\"DPC入院料\"]\n",
    "                #dx.loc[i,\"行為薬剤料\"] = 0\n",
    "                #dx.loc[i,\"行為材料料\"] = 0\n",
    "                #dx.loc[i,\"円点区分\"] = 0\n",
    "                #dx.loc[i,\"行為回数\"] = 1\n",
    "            else:\n",
    "                pass\n",
    "''''''"
   ]
  },
  {
   "cell_type": "code",
   "execution_count": 1,
   "metadata": {},
   "outputs": [],
   "source": [
    "#my93a(nyu,dpc)"
   ]
  },
  {
   "cell_type": "code",
   "execution_count": null,
   "metadata": {
    "collapsed": true
   },
   "outputs": [],
   "source": [
    "#my93b(nyu,dpc)"
   ]
  },
  {
   "cell_type": "code",
   "execution_count": 184,
   "metadata": {},
   "outputs": [
    {
     "data": {
      "text/plain": [
       "'\\n# nyuとdpcを使う。データ識別番号と入院年月日と在院日数で見て、合致していれば、nyuの各カラムを上書き：\\n\\n# \"データ区分\" = 93,\\n# \"順序番号\" =\\u3000int(\"在院日数\")\\n# \"病院点数マスタコード\" = 0\\n# \"レセプト電算コード\" = 930000000\\n# \"解釈番号\" =\\u3000\"\"\\n# \"診療明細名称\" =\\u3000dpc.\"診断群分類番号\"  ←あとでdpcmasterからテーブルを抜いてきて日本語名称（例：\\u3000貧血（その他）\\u3000手術あり\\u3000手術・処置等２\\u3000なし\\u3000に書き換え\\n# \"行為点数\" = dpc.\"DPC入院料\"\\n# \"行為薬剤料\" =\\u30000\\n# \"行為材料料\" = 0\\n# \"円点区分\" = 0\\n# \"行為回数\" = 1\\n\\nfor i in nyu.index:\\n    for j in dpc.index:\\n        if nyu.loc[i,\"dnz_key\"] == dpc.loc[j,\"dnz_key\"]:\\n            nyu.loc[i,\"データ区分\"] = 93\\n            nyu.loc[i,\"順序番号\"] = nyu[\"在院日数\"].dt.days[i]\\n            nyu.loc[i,\"病院点数マスタコード\"] = 0\\n            nyu.loc[i,\"レセプト電算コード\"] = 930000000\\n            nyu.loc[i,\"解釈番号\"] = \"\"\\n            nyu.loc[i,\"診療明細名称\"] = dpc.loc[j,\"診断群分類番号\"]\\n            nyu.loc[i,\"行為点数\"] = dpc.loc[j,\"DPC入院料\"]\\n            nyu.loc[i,\"行為薬剤料\"] = 0\\n            nyu.loc[i,\"行為材料料\"] = 0\\n            nyu.loc[i,\"円点区分\"] = 0\\n            nyu.loc[i,\"行為回数\"] = 1\\n        else:\\n            pass\\n'"
      ]
     },
     "execution_count": 184,
     "metadata": {},
     "output_type": "execute_result"
    }
   ],
   "source": [
    "'''\n",
    "# nyuとdpcを使う。データ識別番号と入院年月日と在院日数で見て、合致していれば、nyuの各カラムを上書き：\n",
    "\n",
    "# \"データ区分\" = 93,\n",
    "# \"順序番号\" =　int(\"在院日数\")\n",
    "# \"病院点数マスタコード\" = 0\n",
    "# \"レセプト電算コード\" = 930000000\n",
    "# \"解釈番号\" =　\"\"\n",
    "# \"診療明細名称\" =　dpc.\"診断群分類番号\"  ←あとでdpcmasterからテーブルを抜いてきて日本語名称（例：　貧血（その他）　手術あり　手術・処置等２　なし　に書き換え\n",
    "# \"行為点数\" = dpc.\"DPC入院料\"\n",
    "# \"行為薬剤料\" =　0\n",
    "# \"行為材料料\" = 0\n",
    "# \"円点区分\" = 0\n",
    "# \"行為回数\" = 1\n",
    "\n",
    "for i in nyu.index:\n",
    "    for j in dpc.index:\n",
    "        if nyu.loc[i,\"dnz_key\"] == dpc.loc[j,\"dnz_key\"]:\n",
    "            nyu.loc[i,\"データ区分\"] = 93\n",
    "            nyu.loc[i,\"順序番号\"] = nyu[\"在院日数\"].dt.days[i]\n",
    "            nyu.loc[i,\"病院点数マスタコード\"] = 0\n",
    "            nyu.loc[i,\"レセプト電算コード\"] = 930000000\n",
    "            nyu.loc[i,\"解釈番号\"] = \"\"\n",
    "            nyu.loc[i,\"診療明細名称\"] = dpc.loc[j,\"診断群分類番号\"]\n",
    "            nyu.loc[i,\"行為点数\"] = dpc.loc[j,\"DPC入院料\"]\n",
    "            nyu.loc[i,\"行為薬剤料\"] = 0\n",
    "            nyu.loc[i,\"行為材料料\"] = 0\n",
    "            nyu.loc[i,\"円点区分\"] = 0\n",
    "            nyu.loc[i,\"行為回数\"] = 1\n",
    "        else:\n",
    "            pass\n",
    "'''"
   ]
  },
  {
   "cell_type": "code",
   "execution_count": 213,
   "metadata": {},
   "outputs": [
    {
     "name": "stderr",
     "output_type": "stream",
     "text": [
      "C:\\Anaconda3\\lib\\site-packages\\pandas\\core\\indexing.py:465: SettingWithCopyWarning: \n",
      "A value is trying to be set on a copy of a slice from a DataFrame.\n",
      "Try using .loc[row_indexer,col_indexer] = value instead\n",
      "\n",
      "See the caveats in the documentation: http://pandas.pydata.org/pandas-docs/stable/indexing.html#indexing-view-versus-copy\n",
      "  self.obj[item] = s\n"
     ]
    }
   ],
   "source": [
    "'''\n",
    "# nyuとdpcを使う。データ識別番号と入院年月日と在院日数で見て、合致していれば、nyuの各カラムを上書き：\n",
    "\n",
    "# \"データ区分\" = 93,\n",
    "# \"順序番号\" =　int(\"在院日数\")\n",
    "# \"病院点数マスタコード\" = 0\n",
    "# \"レセプト電算コード\" = 930000000\n",
    "# \"解釈番号\" =　\"\"\n",
    "# \"診療明細名称\" =　dpc.\"診断群分類番号\"  ←あとでdpcmasterからテーブルを抜いてきて日本語名称（例：　貧血（その他）　手術あり　手術・処置等２　なし　に書き換え\n",
    "# \"行為点数\" = dpc.\"DPC入院料\"\n",
    "# \"行為薬剤料\" =　0\n",
    "# \"行為材料料\" = 0\n",
    "# \"円点区分\" = 0\n",
    "# \"行為回数\" = 1\n",
    "\n",
    "for i in nyu.index:\n",
    "    for j in dpc.index:\n",
    "        if nyu.loc[i,\"データ識別番号\"] == dpc.loc[j,\"データ識別番号\"]:\n",
    "            if nyu.loc[i,\"入院年月日\"] == dpc.loc[j,\"入院年月日\"]:\n",
    "                if nyu.loc[i,\"在院日数\"] == dpc.loc[j,\"在院日数\"]:\n",
    "                    nyu.loc[i,\"データ区分\"] = 93\n",
    "                    nyu.loc[i,\"順序番号\"] = nyu[\"在院日数\"].dt.days[i]\n",
    "                    nyu.loc[i,\"病院点数マスタコード\"] = 0\n",
    "                    nyu.loc[i,\"レセプト電算コード\"] = 930000000\n",
    "                    nyu.loc[i,\"解釈番号\"] = \"\"\n",
    "                    nyu.loc[i,\"診療明細名称\"] = dpc.loc[j,\"診断群分類番号\"]\n",
    "                    nyu.loc[i,\"行為点数\"] = dpc.loc[j,\"DPC入院料\"]\n",
    "                    nyu.loc[i,\"行為薬剤料\"] = 0\n",
    "                    nyu.loc[i,\"行為材料料\"] = 0\n",
    "                    nyu.loc[i,\"円点区分\"] = 0\n",
    "                    nyu.loc[i,\"行為回数\"] = 1\n",
    "                else:\n",
    "                    pass\n",
    "            else:\n",
    "                pass\n",
    "        else:\n",
    "            pass\n",
    "'''"
   ]
  },
  {
   "cell_type": "code",
   "execution_count": 215,
   "metadata": {},
   "outputs": [],
   "source": [
    "#nyu.to_excel(\"test_nyu.xlsx\")"
   ]
  },
  {
   "cell_type": "code",
   "execution_count": 185,
   "metadata": {
    "collapsed": true
   },
   "outputs": [],
   "source": [
    "with pg.connect(database='uonuma_kikan',user='postgres',host='localhost',port=5432,password=12345) as conn:\n",
    "    sql = \"\"\"\n",
    "SELECT 診断群分類番号\n",
    "       ,傷病名\n",
    "       ,手術名\n",
    "       ,手術・処置等１\n",
    "       ,手術・処置等２\n",
    "       ,定義副傷病\n",
    "       ,重症度等\n",
    "  FROM dpcmaster_{0};\"\"\".format(nengo)\n",
    "    mstr_name = psql.read_sql(sql,conn)"
   ]
  },
  {
   "cell_type": "code",
   "execution_count": 186,
   "metadata": {},
   "outputs": [],
   "source": [
    "mstr_name = mstr_name.fillna(\"\")"
   ]
  },
  {
   "cell_type": "code",
   "execution_count": 187,
   "metadata": {},
   "outputs": [
    {
     "name": "stdout",
     "output_type": "stream",
     "text": [
      "<class 'pandas.core.frame.DataFrame'>\n",
      "RangeIndex: 4918 entries, 0 to 4917\n",
      "Data columns (total 7 columns):\n",
      "診断群分類番号    4918 non-null object\n",
      "傷病名        4918 non-null object\n",
      "手術名        4918 non-null object\n",
      "手術・処置等１    4918 non-null object\n",
      "手術・処置等２    4918 non-null object\n",
      "定義副傷病      4918 non-null object\n",
      "重症度等       4918 non-null object\n",
      "dtypes: object(7)\n",
      "memory usage: 134.5+ KB\n"
     ]
    }
   ],
   "source": [
    "mstr_name.info()"
   ]
  },
  {
   "cell_type": "code",
   "execution_count": 188,
   "metadata": {},
   "outputs": [
    {
     "data": {
      "text/plain": [
       "{'',\n",
       " 'あり',\n",
       " 'なし',\n",
       " 'なし、１,２あり',\n",
       " 'なし、１,３あり',\n",
       " 'なし、１あり',\n",
       " '１,２あり',\n",
       " '１あり',\n",
       " '２あり',\n",
       " '３あり',\n",
       " '５あり'}"
      ]
     },
     "execution_count": 188,
     "metadata": {},
     "output_type": "execute_result"
    }
   ],
   "source": [
    "set(mstr_name[\"手術・処置等１\"])"
   ]
  },
  {
   "cell_type": "code",
   "execution_count": 189,
   "metadata": {},
   "outputs": [],
   "source": [
    "mstr_name[\"手術・処置等１\"] = mstr_name[\"手術・処置等１\"].apply(lambda x:\"手術・処置等１あり\" if \"あり\" in x else x)\n",
    "mstr_name[\"手術・処置等１\"] = mstr_name[\"手術・処置等１\"].apply(lambda x:\"手術・処置等１なし\" if x==\"なし\" else x)"
   ]
  },
  {
   "cell_type": "code",
   "execution_count": 190,
   "metadata": {},
   "outputs": [
    {
     "data": {
      "text/plain": [
       "{'', 'あり', 'なし', '１あり', '２あり', '３あり', '４あり', '５あり', '６あり', '７あり', '８あり', '９あり'}"
      ]
     },
     "execution_count": 190,
     "metadata": {},
     "output_type": "execute_result"
    }
   ],
   "source": [
    "set(mstr_name[\"手術・処置等２\"])"
   ]
  },
  {
   "cell_type": "code",
   "execution_count": 191,
   "metadata": {},
   "outputs": [],
   "source": [
    "mstr_name[\"手術・処置等２\"] = mstr_name[\"手術・処置等２\"].apply(lambda x:\"手術・処置等２あり\" if \"あり\" in x else x)\n",
    "mstr_name[\"手術・処置等２\"] = mstr_name[\"手術・処置等２\"].apply(lambda x:\"手術・処置等２なし\" if x=='なし' else x)"
   ]
  },
  {
   "cell_type": "code",
   "execution_count": 192,
   "metadata": {},
   "outputs": [
    {
     "data": {
      "text/plain": [
       "{'', 'あり', 'なし', '１あり', '２あり'}"
      ]
     },
     "execution_count": 192,
     "metadata": {},
     "output_type": "execute_result"
    }
   ],
   "source": [
    "set(mstr_name[\"定義副傷病\"])"
   ]
  },
  {
   "cell_type": "code",
   "execution_count": 193,
   "metadata": {},
   "outputs": [],
   "source": [
    "mstr_name[\"定義副傷病\"] = mstr_name[\"定義副傷病\"].apply(lambda x:\"副傷病あり\" if \"あり\" in x else x)\n",
    "mstr_name[\"定義副傷病\"] = mstr_name[\"定義副傷病\"].apply(lambda x:\"副傷病なし\" if x==\"なし\" else x)"
   ]
  },
  {
   "cell_type": "code",
   "execution_count": 194,
   "metadata": {},
   "outputs": [],
   "source": [
    "# ＤＰＣ入院料の日本語名称を各列文字列結合して取得\n",
    "mstr_name[\"診療明細名称\"] = mstr_name[\"傷病名\"]+\"　\"+mstr_name[\"手術名\"]+\"　\"\\\n",
    "+mstr_name[\"手術・処置等１\"]+\"　\"+mstr_name[\"手術・処置等２\"]+\"　\"+mstr_name[\"定義副傷病\"]+\"　\"+mstr_name[\"重症度等\"]"
   ]
  },
  {
   "cell_type": "code",
   "execution_count": 195,
   "metadata": {
    "collapsed": true
   },
   "outputs": [],
   "source": [
    "# nyuの診療明細名称に入れた診断群分類番号を日本語名称に変更\n",
    "\n",
    "#@numba.jit\n",
    "def num2name(dx,dy):\n",
    "    for i in dx.index:\n",
    "        if dx.loc[i,\"診療明細名称\"] in dy[\"診断群分類番号\"].tolist():\n",
    "            item = dx.loc[i,\"診療明細名称\"]\n",
    "            j = dy[dy[\"診断群分類番号\"]==item].index[0]\n",
    "            dx.loc[i,\"診療明細名称\"] = dy.loc[j,\"診療明細名称\"]\n",
    "        else:\n",
    "            pass"
   ]
  },
  {
   "cell_type": "code",
   "execution_count": 196,
   "metadata": {},
   "outputs": [],
   "source": [
    "mstr_name_short = mstr_name[[\"診断群分類番号\",\"診療明細名称\"]]"
   ]
  },
  {
   "cell_type": "code",
   "execution_count": 197,
   "metadata": {},
   "outputs": [],
   "source": [
    "num2name(nyu,mstr_name_short)"
   ]
  },
  {
   "cell_type": "code",
   "execution_count": null,
   "metadata": {
    "collapsed": true
   },
   "outputs": [],
   "source": [
    "'''\n",
    "# nyuの診療明細名称に入れた診断群分類番号を日本語名称に変更\n",
    "\n",
    "#@numba.jit\n",
    "def num2name(dx,dy):\n",
    "    for i in dx.index:\n",
    "        for j in dy.index:\n",
    "            if dx.loc[i,\"診療明細名称\"] == dy.loc[j,\"診断群分類番号\"]:\n",
    "                dx.loc[i,\"診療明細名称\"] = dy.loc[j,\"診療明細名称\"]\n",
    "            else:\n",
    "                pass\n",
    "'''"
   ]
  },
  {
   "cell_type": "code",
   "execution_count": null,
   "metadata": {
    "collapsed": true
   },
   "outputs": [],
   "source": [
    "#num2name(nyu,mstr_name)"
   ]
  },
  {
   "cell_type": "code",
   "execution_count": null,
   "metadata": {},
   "outputs": [],
   "source": [
    "'''\n",
    "# nyuの診療明細名称に入れた診断群分類番号を日本語名称に変更\n",
    "\n",
    "@numba.jit\n",
    "for i in nyu.index:\n",
    "    for j in mstr_name.index:\n",
    "        if nyu.loc[i,\"診療明細名称\"] == mstr_name.loc[j,\"診断群分類番号\"]:\n",
    "            nyu.loc[i,\"診療明細名称\"] = mstr_name.loc[j,\"診療明細名称\"]\n",
    "        else:\n",
    "            pass\n",
    "'''"
   ]
  },
  {
   "cell_type": "code",
   "execution_count": 199,
   "metadata": {},
   "outputs": [
    {
     "name": "stdout",
     "output_type": "stream",
     "text": [
      "<class 'pandas.core.frame.DataFrame'>\n",
      "RangeIndex: 8127 entries, 0 to 8126\n",
      "Data columns (total 34 columns):\n",
      "施設コード         8127 non-null object\n",
      "データ識別番号       8127 non-null int64\n",
      "退院年月日         8127 non-null object\n",
      "入院年月日         8127 non-null object\n",
      "データ区分         8127 non-null float64\n",
      "順序番号          8127 non-null float64\n",
      "病院点数マスタコード    8127 non-null float64\n",
      "レセプト電算コード     8127 non-null float64\n",
      "解釈番号          8127 non-null object\n",
      "診療明細名称        8127 non-null object\n",
      "行為点数          8127 non-null float64\n",
      "行為薬剤料         8127 non-null float64\n",
      "行為材料料         8127 non-null float64\n",
      "円点区分          8127 non-null float64\n",
      "行為回数          8127 non-null float64\n",
      "保険者番号         8102 non-null float64\n",
      "レセプト種別コード     8102 non-null float64\n",
      "実施年月日         8127 non-null object\n",
      "レセプト科区分       8102 non-null float64\n",
      "診療科区分         8127 non-null object\n",
      "医師コード         8127 non-null object\n",
      "病棟コード         8127 non-null object\n",
      "病棟区分          8127 non-null float64\n",
      "入外区分          8102 non-null object\n",
      "施設タイプ         0 non-null object\n",
      "医療機関係数        0 non-null float64\n",
      "key           8127 non-null object\n",
      "算定開始日         4530 non-null object\n",
      "算定終了日         4530 non-null object\n",
      "算定起算日         4530 non-null object\n",
      "jkey          8127 non-null object\n",
      "分類番号          2688 non-null object\n",
      "在院日数          8127 non-null timedelta64[ns]\n",
      "dnz_key       8127 non-null object\n",
      "dtypes: float64(14), int64(1), object(18), timedelta64[ns](1)\n",
      "memory usage: 1.6+ MB\n"
     ]
    }
   ],
   "source": [
    "nyu.info()"
   ]
  },
  {
   "cell_type": "code",
   "execution_count": 200,
   "metadata": {
    "collapsed": true
   },
   "outputs": [],
   "source": [
    "# ここでnyuから不要なカラムをドロップ\n",
    "nyu.drop([\"dnz_key\"],1,inplace=True)"
   ]
  },
  {
   "cell_type": "code",
   "execution_count": 201,
   "metadata": {},
   "outputs": [],
   "source": [
    "# ここでnyuから不要なカラムをドロップ\n",
    "nyu.drop([\"在院日数\"],1,inplace=True)"
   ]
  },
  {
   "cell_type": "code",
   "execution_count": 202,
   "metadata": {},
   "outputs": [
    {
     "name": "stdout",
     "output_type": "stream",
     "text": [
      "(230858, 32) (8127, 32)\n"
     ]
    }
   ],
   "source": [
    "print(EetBbb.shape, nyu.shape)"
   ]
  },
  {
   "cell_type": "code",
   "execution_count": 203,
   "metadata": {
    "collapsed": true
   },
   "outputs": [],
   "source": [
    "#　ここでレセプト電算コード930000000となるレコードnyuとEetBbbをconcat\n",
    "\n",
    "EetBbb = pd.concat([EetBbb,nyu])"
   ]
  },
  {
   "cell_type": "code",
   "execution_count": 204,
   "metadata": {},
   "outputs": [
    {
     "data": {
      "text/plain": [
       "(238985, 32)"
      ]
     },
     "execution_count": 204,
     "metadata": {},
     "output_type": "execute_result"
    }
   ],
   "source": [
    "EetBbb.shape"
   ]
  },
  {
   "cell_type": "code",
   "execution_count": 205,
   "metadata": {},
   "outputs": [],
   "source": [
    "EetBbb[\"医療機関係数\"] = cof"
   ]
  },
  {
   "cell_type": "code",
   "execution_count": 207,
   "metadata": {},
   "outputs": [],
   "source": [
    "D = pd.DataFrame(EetBbb,columns=dcol)"
   ]
  },
  {
   "cell_type": "code",
   "execution_count": 208,
   "metadata": {},
   "outputs": [],
   "source": [
    "D.reset_index(inplace=True)"
   ]
  },
  {
   "cell_type": "code",
   "execution_count": 209,
   "metadata": {},
   "outputs": [],
   "source": [
    "D.drop([\"index\"],1,inplace=True)"
   ]
  },
  {
   "cell_type": "code",
   "execution_count": 210,
   "metadata": {},
   "outputs": [
    {
     "name": "stdout",
     "output_type": "stream",
     "text": [
      "<class 'pandas.core.frame.DataFrame'>\n",
      "RangeIndex: 238985 entries, 0 to 238984\n",
      "Data columns (total 30 columns):\n",
      "施設コード         238985 non-null object\n",
      "データ識別番号       238985 non-null int64\n",
      "退院年月日         238985 non-null object\n",
      "入院年月日         238985 non-null object\n",
      "データ区分         238985 non-null float64\n",
      "順序番号          238985 non-null float64\n",
      "病院点数マスタコード    238985 non-null float64\n",
      "レセプト電算コード     238985 non-null float64\n",
      "解釈番号          238985 non-null object\n",
      "診療明細名称        238985 non-null object\n",
      "行為点数          238985 non-null float64\n",
      "行為薬剤料         238985 non-null float64\n",
      "行為材料料         238985 non-null float64\n",
      "円点区分          238985 non-null float64\n",
      "行為回数          238985 non-null float64\n",
      "保険者番号         80698 non-null float64\n",
      "レセプト種別コード     80698 non-null float64\n",
      "実施年月日         238985 non-null object\n",
      "レセプト科区分       80698 non-null float64\n",
      "診療科区分         238985 non-null object\n",
      "医師コード         238985 non-null object\n",
      "病棟コード         238985 non-null object\n",
      "病棟区分          238985 non-null float64\n",
      "入外区分          80698 non-null object\n",
      "施設タイプ         0 non-null object\n",
      "算定開始日         78931 non-null object\n",
      "算定終了日         78931 non-null object\n",
      "算定起算日         78931 non-null object\n",
      "分類番号          11803 non-null object\n",
      "医療機関係数        238985 non-null float64\n",
      "dtypes: float64(14), int64(1), object(15)\n",
      "memory usage: 41.0+ MB\n"
     ]
    }
   ],
   "source": [
    "D.info()"
   ]
  },
  {
   "cell_type": "code",
   "execution_count": 211,
   "metadata": {},
   "outputs": [],
   "source": [
    "D[\"データ識別番号\"] = D[\"データ識別番号\"].apply(lambda x:str(x).zfill(10))"
   ]
  },
  {
   "cell_type": "code",
   "execution_count": 212,
   "metadata": {},
   "outputs": [],
   "source": [
    "D[\"退院年月日\"] = D[\"退院年月日\"].apply(lambda x:int(x)).apply(lambda x:str(x))"
   ]
  },
  {
   "cell_type": "code",
   "execution_count": 213,
   "metadata": {},
   "outputs": [],
   "source": [
    "D[\"入院年月日\"] = D[\"入院年月日\"].apply(lambda x:str(x).replace('-','')).apply(lambda x:int(x)).apply(lambda x:str(x))"
   ]
  },
  {
   "cell_type": "code",
   "execution_count": 214,
   "metadata": {},
   "outputs": [],
   "source": [
    "D[\"実施年月日\"] = D[\"実施年月日\"].apply(lambda x:str(x).replace('-','')).apply(lambda x:int(x)).apply(lambda x:str(x))"
   ]
  },
  {
   "cell_type": "code",
   "execution_count": 215,
   "metadata": {
    "collapsed": true
   },
   "outputs": [],
   "source": [
    "#　医療機関係数以外float64になっているものはintに変更"
   ]
  },
  {
   "cell_type": "code",
   "execution_count": 216,
   "metadata": {},
   "outputs": [],
   "source": [
    "flist = [\"データ区分\",        \n",
    "\"順序番号\",         \n",
    "\"病院点数マスタコード\",    \n",
    "\"レセプト電算コード\",     \n",
    "\"行為点数\",          \n",
    "\"行為薬剤料\",         \n",
    "\"行為材料料\",       \n",
    "\"円点区分\",          \n",
    "\"行為回数\",          \n",
    "\"保険者番号\",         \n",
    "\"レセプト種別コード\",     \n",
    "\"レセプト科区分\",      \n",
    "\"病棟区分\"]"
   ]
  },
  {
   "cell_type": "code",
   "execution_count": 217,
   "metadata": {},
   "outputs": [
    {
     "data": {
      "text/plain": [
       "1"
      ]
     },
     "execution_count": 217,
     "metadata": {},
     "output_type": "execute_result"
    }
   ],
   "source": [
    "int(D[\"病棟区分\"][0])"
   ]
  },
  {
   "cell_type": "code",
   "execution_count": 218,
   "metadata": {},
   "outputs": [],
   "source": [
    "D_f = D[flist].fillna(\"\")"
   ]
  },
  {
   "cell_type": "code",
   "execution_count": 219,
   "metadata": {},
   "outputs": [],
   "source": [
    "D_f_int = D_f.applymap(lambda x:int(x) if x!=\"\" else x)"
   ]
  },
  {
   "cell_type": "code",
   "execution_count": 220,
   "metadata": {},
   "outputs": [],
   "source": [
    "D[flist] = D_f_int"
   ]
  },
  {
   "cell_type": "code",
   "execution_count": 242,
   "metadata": {},
   "outputs": [
    {
     "data": {
      "text/plain": [
       "'\\n#@numba.jit\\nfor col in flist:\\n    D[col] = D[col].fillna(\"\")\\n    for i in D.index:\\n        if D.loc[i,col] != \"\":\\n            D.loc[i,col] = int(D.loc[i,col])\\n        else:\\n            pass\\n'"
      ]
     },
     "execution_count": 242,
     "metadata": {},
     "output_type": "execute_result"
    }
   ],
   "source": [
    "'''\n",
    "#@numba.jit\n",
    "for col in flist:\n",
    "    D[col] = D[col].fillna(\"\")\n",
    "    for i in D.index:\n",
    "        if D.loc[i,col] != \"\":\n",
    "            D.loc[i,col] = int(D.loc[i,col])\n",
    "        else:\n",
    "            pass\n",
    "'''"
   ]
  },
  {
   "cell_type": "code",
   "execution_count": 222,
   "metadata": {},
   "outputs": [
    {
     "name": "stdout",
     "output_type": "stream",
     "text": [
      "<class 'pandas.core.frame.DataFrame'>\n",
      "RangeIndex: 238985 entries, 0 to 238984\n",
      "Data columns (total 30 columns):\n",
      "施設コード         238985 non-null object\n",
      "データ識別番号       238985 non-null object\n",
      "退院年月日         238985 non-null object\n",
      "入院年月日         238985 non-null object\n",
      "データ区分         238985 non-null int64\n",
      "順序番号          238985 non-null int64\n",
      "病院点数マスタコード    238985 non-null int64\n",
      "レセプト電算コード     238985 non-null int64\n",
      "解釈番号          238985 non-null object\n",
      "診療明細名称        238985 non-null object\n",
      "行為点数          238985 non-null int64\n",
      "行為薬剤料         238985 non-null int64\n",
      "行為材料料         238985 non-null int64\n",
      "円点区分          238985 non-null int64\n",
      "行為回数          238985 non-null int64\n",
      "保険者番号         238985 non-null object\n",
      "レセプト種別コード     238985 non-null object\n",
      "実施年月日         238985 non-null object\n",
      "レセプト科区分       238985 non-null object\n",
      "診療科区分         238985 non-null object\n",
      "医師コード         238985 non-null object\n",
      "病棟コード         238985 non-null object\n",
      "病棟区分          238985 non-null int64\n",
      "入外区分          80698 non-null object\n",
      "施設タイプ         0 non-null object\n",
      "算定開始日         78931 non-null object\n",
      "算定終了日         78931 non-null object\n",
      "算定起算日         78931 non-null object\n",
      "分類番号          11803 non-null object\n",
      "医療機関係数        238985 non-null float64\n",
      "dtypes: float64(1), int64(10), object(19)\n",
      "memory usage: 37.4+ MB\n"
     ]
    }
   ],
   "source": [
    "D.info()"
   ]
  },
  {
   "cell_type": "code",
   "execution_count": 211,
   "metadata": {},
   "outputs": [],
   "source": [
    "#D[\"病棟区分\"] = D[\"病棟区分\"].astype(int)"
   ]
  },
  {
   "cell_type": "code",
   "execution_count": 212,
   "metadata": {},
   "outputs": [],
   "source": [
    "#D[flist]"
   ]
  },
  {
   "cell_type": "code",
   "execution_count": 223,
   "metadata": {},
   "outputs": [
    {
     "data": {
      "text/plain": [
       "{'0',\n",
       " '20170101',\n",
       " '20170102',\n",
       " '20170103',\n",
       " '20170104',\n",
       " '20170105',\n",
       " '20170106',\n",
       " '20170107',\n",
       " '20170108',\n",
       " '20170109',\n",
       " '20170110',\n",
       " '20170111',\n",
       " '20170112',\n",
       " '20170113',\n",
       " '20170114',\n",
       " '20170115',\n",
       " '20170116',\n",
       " '20170117',\n",
       " '20170118',\n",
       " '20170119',\n",
       " '20170120',\n",
       " '20170121',\n",
       " '20170122',\n",
       " '20170123',\n",
       " '20170124',\n",
       " '20170125',\n",
       " '20170126',\n",
       " '20170127',\n",
       " '20170128',\n",
       " '20170129',\n",
       " '20170130',\n",
       " '20170131'}"
      ]
     },
     "execution_count": 223,
     "metadata": {},
     "output_type": "execute_result"
    }
   ],
   "source": [
    "set(D[\"退院年月日\"])"
   ]
  },
  {
   "cell_type": "code",
   "execution_count": 224,
   "metadata": {},
   "outputs": [],
   "source": [
    "D.to_csv(\"Dn_152410463_{0}.txt\".format(month),sep='\\t',index=False)"
   ]
  }
 ],
 "metadata": {
  "kernelspec": {
   "display_name": "Python 3",
   "language": "python",
   "name": "python3"
  },
  "language_info": {
   "codemirror_mode": {
    "name": "ipython",
    "version": 3
   },
   "file_extension": ".py",
   "mimetype": "text/x-python",
   "name": "python",
   "nbconvert_exporter": "python",
   "pygments_lexer": "ipython3",
   "version": "3.7.0"
  }
 },
 "nbformat": 4,
 "nbformat_minor": 1
}
